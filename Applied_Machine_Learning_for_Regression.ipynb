{
 "cells": [
  {
   "cell_type": "markdown",
   "metadata": {},
   "source": [
    "# Short term Load Forcasting (Regression Machine Learning)"
   ]
  },
  {
   "cell_type": "markdown",
   "metadata": {},
   "source": [
    "You have been provided with **Load Forecasting** data set as a single file, `dataset.csv`. \n",
    "\n",
    "We obtained it at http://www.mathworks.com/videos/electricity-load-and-price-forecasting-with-matlab-81765.html. \n",
    "\n",
    "For some background information you can also watch the video tutorial given in the link above:\n",
    "\n",
    "Before you start on this notebook, copy the datasetset `dataset.csv` in the same directory."
   ]
  },
  {
   "cell_type": "markdown",
   "metadata": {},
   "source": [
    "### 1. Set up notebook and load dataset"
   ]
  },
  
  {
   "cell_type": "code",
   "execution_count": 2,
   "metadata": {},
   "outputs": [],
   "source": [
    "!pip install -r requirement.txt"
   ]
  },
  {
   "cell_type": "code",
   "execution_count": 2,
   "metadata": {},
   "outputs": [],
   "source": [
    "%matplotlib inline\n",
    "import numpy as np\n",
    "import pandas as pd\n",
    "from sklearn import linear_model  # linear regression library\n",
    "from sklearn.linear_model import LinearRegression\n",
    "from sklearn.metrics import mean_squared_error\n",
    "from sklearn.metrics import mean_absolute_percentage_error\n",
    "from sklearn import metrics\n",
    "from sklearn.model_selection import train_test_split\n",
    "import matplotlib.pyplot as plt\n"
   ]
  },
  {
   "cell_type": "markdown",
   "metadata": {},
   "source": [
    "This next snippet of code loads the load forecasting dataset. There are 50000 data points, each with 8 predictor variables that are input `x` and one response variable (which we'll denote `y`).\n",
    "\n",
    "Make sure the file `'dataset.csv'` is in the same directory as this notebook."
   ]
  },
  {
   "cell_type": "code",
   "execution_count": 3,
   "metadata": {
    "collapsed": true
   },
   "outputs": [
    {
     "data": {
      "text/html": [
       "<div>\n",
       "<style scoped>\n",
       "    .dataframe tbody tr th:only-of-type {\n",
       "        vertical-align: middle;\n",
       "    }\n",
       "\n",
       "    .dataframe tbody tr th {\n",
       "        vertical-align: top;\n",
       "    }\n",
       "\n",
       "    .dataframe thead th {\n",
       "        text-align: right;\n",
       "    }\n",
       "</style>\n",
       "<table border=\"1\" class=\"dataframe\">\n",
       "  <thead>\n",
       "    <tr style=\"text-align: right;\">\n",
       "      <th></th>\n",
       "      <th>DryBulb</th>\n",
       "      <th>DewPoint</th>\n",
       "      <th>Hour</th>\n",
       "      <th>Weekday</th>\n",
       "      <th>IsWorkingDay</th>\n",
       "      <th>P_W_S_hour_l</th>\n",
       "      <th>P_D_S_hour_l</th>\n",
       "      <th>prev24HrAveLoad</th>\n",
       "      <th>target_variable</th>\n",
       "    </tr>\n",
       "  </thead>\n",
       "  <tbody>\n",
       "    <tr>\n",
       "      <th>0</th>\n",
       "      <td>37</td>\n",
       "      <td>25</td>\n",
       "      <td>1</td>\n",
       "      <td>5</td>\n",
       "      <td>0</td>\n",
       "      <td>12230</td>\n",
       "      <td>12230</td>\n",
       "      <td>509.583333</td>\n",
       "      <td>12230</td>\n",
       "    </tr>\n",
       "    <tr>\n",
       "      <th>1</th>\n",
       "      <td>37</td>\n",
       "      <td>25</td>\n",
       "      <td>2</td>\n",
       "      <td>5</td>\n",
       "      <td>0</td>\n",
       "      <td>11534</td>\n",
       "      <td>11534</td>\n",
       "      <td>990.166667</td>\n",
       "      <td>11534</td>\n",
       "    </tr>\n",
       "    <tr>\n",
       "      <th>2</th>\n",
       "      <td>39</td>\n",
       "      <td>24</td>\n",
       "      <td>3</td>\n",
       "      <td>5</td>\n",
       "      <td>0</td>\n",
       "      <td>11038</td>\n",
       "      <td>11038</td>\n",
       "      <td>1450.083333</td>\n",
       "      <td>11038</td>\n",
       "    </tr>\n",
       "    <tr>\n",
       "      <th>3</th>\n",
       "      <td>38</td>\n",
       "      <td>22</td>\n",
       "      <td>4</td>\n",
       "      <td>5</td>\n",
       "      <td>0</td>\n",
       "      <td>10777</td>\n",
       "      <td>10777</td>\n",
       "      <td>1899.125000</td>\n",
       "      <td>10777</td>\n",
       "    </tr>\n",
       "    <tr>\n",
       "      <th>4</th>\n",
       "      <td>37</td>\n",
       "      <td>20</td>\n",
       "      <td>5</td>\n",
       "      <td>5</td>\n",
       "      <td>0</td>\n",
       "      <td>10764</td>\n",
       "      <td>10764</td>\n",
       "      <td>2347.625000</td>\n",
       "      <td>10764</td>\n",
       "    </tr>\n",
       "  </tbody>\n",
       "</table>\n",
       "</div>"
      ],
      "text/plain": [
       "   DryBulb  DewPoint  Hour  Weekday  IsWorkingDay  P_W_S_hour_l  P_D_S_hour_l  \\\n",
       "0       37        25     1        5             0         12230         12230   \n",
       "1       37        25     2        5             0         11534         11534   \n",
       "2       39        24     3        5             0         11038         11038   \n",
       "3       38        22     4        5             0         10777         10777   \n",
       "4       37        20     5        5             0         10764         10764   \n",
       "\n",
       "   prev24HrAveLoad  target_variable  \n",
       "0       509.583333            12230  \n",
       "1       990.166667            11534  \n",
       "2      1450.083333            11038  \n",
       "3      1899.125000            10777  \n",
       "4      2347.625000            10764  "
      ]
     },
     "execution_count": 3,
     "metadata": {},
     "output_type": "execute_result"
    }
   ],
   "source": [
    "dataset = pd.read_csv('dataset.csv') # Reads the dataset in pandas dataframe\n",
    "\n",
    "features = ['DryBulb', 'DewPoint', 'Hour', 'Weekday', \n",
    "            'IsWorkingDay', 'P_W_S_hour_l', 'P_D_S_hour_l', 'prev24HrAveLoad']\n",
    "dataset.head() # This command tell the first 5 entries of the dataset"
   ]
  },
  {
   "cell_type": "markdown",
   "metadata": {},
   "source": [
    "The dataset contains 8 input variable which contains the contextual information and historical load and temperature data. The variable includes:\n",
    "- DryBulb temperature\n",
    "- DewPoints\n",
    "- Hours (data is collected in hourly samples so each day has 24 values)\n",
    "- Weekday number [1 for Monday and 7 Sunday]\n",
    "- Holyday flag [IsWorkingDay 0 for working 1 for holiday]\n",
    "- prvious week same hour load (P_W_S_hour_l) 168 lagging entry i.e. 168 hours per week\n",
    "- prevuous day same hour load (P_D_S_hour_l) 24 lagging entry\n",
    "- prev24HrAveLoad (Average load for the perticular day)\n",
    "\n",
    "Target variable is actual load at that perticular hour that is need to be predicted"
   ]
  },
  {
   "cell_type": "markdown",
   "metadata": {},
   "source": [
    "# Statistical Feature Extraction (Increase the Feature Space)\n",
    "This snippet of code extract the statistical features for the given data. These features includes the mean, standard deviation\n",
    "and variance of daily, 48 hours, 72 hours and weekly load. "
   ]
  },
  {
   "cell_type": "code",
   "execution_count": 4,
   "metadata": {},
   "outputs": [],
   "source": [
    "\n",
    "dataset['weekly_rollingavg'] = dataset['target_variable'].rolling(window=168).mean()\n",
    "dataset['weekly_std'] = dataset['target_variable'].rolling(window=168).std()\n",
    "dataset['daily_std'] = dataset['target_variable'].rolling(window=24).std()\n",
    "\n",
    "dataset['weekly_varience'] = dataset['target_variable'].rolling(window=168).var()\n",
    "dataset['daily_varience'] = dataset['target_variable'].rolling(window=24).var()\n",
    "\n",
    "\n",
    "dataset['weekly_median'] = dataset['target_variable'].rolling(window=168).median()\n",
    "dataset['daily_meadian'] = dataset['target_variable'].rolling(window=24).median()\n",
    "\n",
    "\n",
    "\n",
    "dataset['48_hour_mean'] = dataset['target_variable'].rolling(window=48).mean()\n",
    "dataset['48_hour_variance'] = dataset['target_variable'].rolling(window=48).var()\n",
    "dataset['48_hour_std'] = dataset['target_variable'].rolling(window=48).std()\n",
    "\n",
    "\n",
    "dataset['72_hour_mean'] = dataset['target_variable'].rolling(window=72).mean()\n",
    "dataset['72_hour_variance'] = dataset['target_variable'].rolling(window=72).var()\n",
    "dataset['72_hour_std'] = dataset['target_variable'].rolling(window=72).std()\n",
    "\n",
    "\n",
    "dataset['12_hours_temp_mean'] = dataset['DewPoint'].rolling(window=12).mean()\n",
    "dataset['24_hour_temp_mean'] = dataset['DewPoint'].rolling(window=24).mean()\n",
    "\n",
    "\n",
    "dataset['12_hours_temp_std'] = dataset['DewPoint'].rolling(window=12).std()\n",
    "dataset['24_hour_temp_std'] = dataset['DewPoint'].rolling(window=24).std()\n",
    "\n",
    "\n",
    "dataset['12_hours_temp_var'] = dataset['DewPoint'].rolling(window=12).var()\n",
    "dataset['24_hour_temp_var'] = dataset['DewPoint'].rolling(window=24).var()\n",
    "\n",
    "\n"
   ]
  },
  {
   "cell_type": "code",
   "execution_count": 5,
   "metadata": {},
   "outputs": [
    {
     "data": {
      "text/html": [
       "<div>\n",
       "<style scoped>\n",
       "    .dataframe tbody tr th:only-of-type {\n",
       "        vertical-align: middle;\n",
       "    }\n",
       "\n",
       "    .dataframe tbody tr th {\n",
       "        vertical-align: top;\n",
       "    }\n",
       "\n",
       "    .dataframe thead th {\n",
       "        text-align: right;\n",
       "    }\n",
       "</style>\n",
       "<table border=\"1\" class=\"dataframe\">\n",
       "  <thead>\n",
       "    <tr style=\"text-align: right;\">\n",
       "      <th></th>\n",
       "      <th>DryBulb</th>\n",
       "      <th>DewPoint</th>\n",
       "      <th>Hour</th>\n",
       "      <th>Weekday</th>\n",
       "      <th>IsWorkingDay</th>\n",
       "      <th>P_W_S_hour_l</th>\n",
       "      <th>P_D_S_hour_l</th>\n",
       "      <th>prev24HrAveLoad</th>\n",
       "      <th>target_variable</th>\n",
       "      <th>weekly_rollingavg</th>\n",
       "      <th>...</th>\n",
       "      <th>48_hour_std</th>\n",
       "      <th>72_hour_mean</th>\n",
       "      <th>72_hour_variance</th>\n",
       "      <th>72_hour_std</th>\n",
       "      <th>12_hours_temp_mean</th>\n",
       "      <th>24_hour_temp_mean</th>\n",
       "      <th>12_hours_temp_std</th>\n",
       "      <th>24_hour_temp_std</th>\n",
       "      <th>12_hours_temp_var</th>\n",
       "      <th>24_hour_temp_var</th>\n",
       "    </tr>\n",
       "  </thead>\n",
       "  <tbody>\n",
       "    <tr>\n",
       "      <th>0</th>\n",
       "      <td>37</td>\n",
       "      <td>25</td>\n",
       "      <td>1</td>\n",
       "      <td>5</td>\n",
       "      <td>0</td>\n",
       "      <td>12230</td>\n",
       "      <td>12230</td>\n",
       "      <td>509.583333</td>\n",
       "      <td>12230</td>\n",
       "      <td>NaN</td>\n",
       "      <td>...</td>\n",
       "      <td>NaN</td>\n",
       "      <td>NaN</td>\n",
       "      <td>NaN</td>\n",
       "      <td>NaN</td>\n",
       "      <td>NaN</td>\n",
       "      <td>NaN</td>\n",
       "      <td>NaN</td>\n",
       "      <td>NaN</td>\n",
       "      <td>NaN</td>\n",
       "      <td>NaN</td>\n",
       "    </tr>\n",
       "    <tr>\n",
       "      <th>1</th>\n",
       "      <td>37</td>\n",
       "      <td>25</td>\n",
       "      <td>2</td>\n",
       "      <td>5</td>\n",
       "      <td>0</td>\n",
       "      <td>11534</td>\n",
       "      <td>11534</td>\n",
       "      <td>990.166667</td>\n",
       "      <td>11534</td>\n",
       "      <td>NaN</td>\n",
       "      <td>...</td>\n",
       "      <td>NaN</td>\n",
       "      <td>NaN</td>\n",
       "      <td>NaN</td>\n",
       "      <td>NaN</td>\n",
       "      <td>NaN</td>\n",
       "      <td>NaN</td>\n",
       "      <td>NaN</td>\n",
       "      <td>NaN</td>\n",
       "      <td>NaN</td>\n",
       "      <td>NaN</td>\n",
       "    </tr>\n",
       "    <tr>\n",
       "      <th>2</th>\n",
       "      <td>39</td>\n",
       "      <td>24</td>\n",
       "      <td>3</td>\n",
       "      <td>5</td>\n",
       "      <td>0</td>\n",
       "      <td>11038</td>\n",
       "      <td>11038</td>\n",
       "      <td>1450.083333</td>\n",
       "      <td>11038</td>\n",
       "      <td>NaN</td>\n",
       "      <td>...</td>\n",
       "      <td>NaN</td>\n",
       "      <td>NaN</td>\n",
       "      <td>NaN</td>\n",
       "      <td>NaN</td>\n",
       "      <td>NaN</td>\n",
       "      <td>NaN</td>\n",
       "      <td>NaN</td>\n",
       "      <td>NaN</td>\n",
       "      <td>NaN</td>\n",
       "      <td>NaN</td>\n",
       "    </tr>\n",
       "    <tr>\n",
       "      <th>3</th>\n",
       "      <td>38</td>\n",
       "      <td>22</td>\n",
       "      <td>4</td>\n",
       "      <td>5</td>\n",
       "      <td>0</td>\n",
       "      <td>10777</td>\n",
       "      <td>10777</td>\n",
       "      <td>1899.125000</td>\n",
       "      <td>10777</td>\n",
       "      <td>NaN</td>\n",
       "      <td>...</td>\n",
       "      <td>NaN</td>\n",
       "      <td>NaN</td>\n",
       "      <td>NaN</td>\n",
       "      <td>NaN</td>\n",
       "      <td>NaN</td>\n",
       "      <td>NaN</td>\n",
       "      <td>NaN</td>\n",
       "      <td>NaN</td>\n",
       "      <td>NaN</td>\n",
       "      <td>NaN</td>\n",
       "    </tr>\n",
       "    <tr>\n",
       "      <th>4</th>\n",
       "      <td>37</td>\n",
       "      <td>20</td>\n",
       "      <td>5</td>\n",
       "      <td>5</td>\n",
       "      <td>0</td>\n",
       "      <td>10764</td>\n",
       "      <td>10764</td>\n",
       "      <td>2347.625000</td>\n",
       "      <td>10764</td>\n",
       "      <td>NaN</td>\n",
       "      <td>...</td>\n",
       "      <td>NaN</td>\n",
       "      <td>NaN</td>\n",
       "      <td>NaN</td>\n",
       "      <td>NaN</td>\n",
       "      <td>NaN</td>\n",
       "      <td>NaN</td>\n",
       "      <td>NaN</td>\n",
       "      <td>NaN</td>\n",
       "      <td>NaN</td>\n",
       "      <td>NaN</td>\n",
       "    </tr>\n",
       "  </tbody>\n",
       "</table>\n",
       "<p>5 rows × 28 columns</p>\n",
       "</div>"
      ],
      "text/plain": [
       "   DryBulb  DewPoint  Hour  Weekday  IsWorkingDay  P_W_S_hour_l  P_D_S_hour_l  \\\n",
       "0       37        25     1        5             0         12230         12230   \n",
       "1       37        25     2        5             0         11534         11534   \n",
       "2       39        24     3        5             0         11038         11038   \n",
       "3       38        22     4        5             0         10777         10777   \n",
       "4       37        20     5        5             0         10764         10764   \n",
       "\n",
       "   prev24HrAveLoad  target_variable  weekly_rollingavg  ...  48_hour_std  \\\n",
       "0       509.583333            12230                NaN  ...          NaN   \n",
       "1       990.166667            11534                NaN  ...          NaN   \n",
       "2      1450.083333            11038                NaN  ...          NaN   \n",
       "3      1899.125000            10777                NaN  ...          NaN   \n",
       "4      2347.625000            10764                NaN  ...          NaN   \n",
       "\n",
       "   72_hour_mean  72_hour_variance  72_hour_std  12_hours_temp_mean  \\\n",
       "0           NaN               NaN          NaN                 NaN   \n",
       "1           NaN               NaN          NaN                 NaN   \n",
       "2           NaN               NaN          NaN                 NaN   \n",
       "3           NaN               NaN          NaN                 NaN   \n",
       "4           NaN               NaN          NaN                 NaN   \n",
       "\n",
       "   24_hour_temp_mean  12_hours_temp_std  24_hour_temp_std  12_hours_temp_var  \\\n",
       "0                NaN                NaN               NaN                NaN   \n",
       "1                NaN                NaN               NaN                NaN   \n",
       "2                NaN                NaN               NaN                NaN   \n",
       "3                NaN                NaN               NaN                NaN   \n",
       "4                NaN                NaN               NaN                NaN   \n",
       "\n",
       "   24_hour_temp_var  \n",
       "0               NaN  \n",
       "1               NaN  \n",
       "2               NaN  \n",
       "3               NaN  \n",
       "4               NaN  \n",
       "\n",
       "[5 rows x 28 columns]"
      ]
     },
     "execution_count": 5,
     "metadata": {},
     "output_type": "execute_result"
    }
   ],
   "source": [
    "dataset.head() # Displays the first 5 values of expended dataset\n",
    "\n"
   ]
  },
  {
   "cell_type": "code",
   "execution_count": 6,
   "metadata": {},
   "outputs": [
    {
     "name": "stdout",
     "output_type": "stream",
     "text": [
      "['DryBulb', 'DewPoint', 'Hour', 'Weekday', 'IsWorkingDay', 'P_W_S_hour_l', 'P_D_S_hour_l', 'prev24HrAveLoad', 'weekly_rollingavg', 'weekly_std', 'daily_std', 'weekly_varience', 'daily_varience', 'weekly_median', 'daily_meadian', '48_hour_mean', '48_hour_variance', '48_hour_std', '72_hour_mean', '72_hour_variance', '72_hour_std', '12_hours_temp_mean', '24_hour_temp_mean', '12_hours_temp_std', '24_hour_temp_std', '12_hours_temp_var', '24_hour_temp_var']\n",
      "----------------------------------------------\n",
      "Number of features in training set: 27\n"
     ]
    }
   ],
   "source": [
    "variables = [*dataset]\n",
    "\n",
    "# The target_value is at index 8 so we have to remove it for the feature list.\n",
    "#\n",
    "\n",
    "index = 8\n",
    "features = variables[:index]+variables[index+1:] # remove the target variable for feature list\n",
    "print(features)\n",
    "\n",
    "print('----------------------------------------------')\n",
    "\n",
    "print('Number of features in training set:', len(features))\n",
    "\n"
   ]
  },
  {
   "cell_type": "markdown",
   "metadata": {},
   "source": [
    "# Remove the missing value: (Data Filterig)\n",
    "\n",
    "- While generating feature, the first few values of each column has NaN (not a number) which requires filtering before model training"
   ]
  },
  {
   "cell_type": "code",
   "execution_count": 7,
   "metadata": {},
   "outputs": [
    {
     "name": "stdout",
     "output_type": "stream",
     "text": [
      "Total number of rows with missing values is  167\n"
     ]
    },
    {
     "data": {
      "text/plain": [
       "DryBulb                 0\n",
       "DewPoint                0\n",
       "Hour                    0\n",
       "Weekday                 0\n",
       "IsWorkingDay            0\n",
       "P_W_S_hour_l            0\n",
       "P_D_S_hour_l            0\n",
       "prev24HrAveLoad         0\n",
       "target_variable         0\n",
       "weekly_rollingavg     167\n",
       "weekly_std            167\n",
       "daily_std              23\n",
       "weekly_varience       167\n",
       "daily_varience         23\n",
       "weekly_median         167\n",
       "daily_meadian          23\n",
       "48_hour_mean           47\n",
       "48_hour_variance       47\n",
       "48_hour_std            47\n",
       "72_hour_mean           71\n",
       "72_hour_variance       71\n",
       "72_hour_std            71\n",
       "12_hours_temp_mean     11\n",
       "24_hour_temp_mean      23\n",
       "12_hours_temp_std      11\n",
       "24_hour_temp_std       23\n",
       "12_hours_temp_var      11\n",
       "24_hour_temp_var       23\n",
       "dtype: int64"
      ]
     },
     "execution_count": 7,
     "metadata": {},
     "output_type": "execute_result"
    }
   ],
   "source": [
    "count=0\n",
    "for i in dataset.isnull().sum(axis=1):\n",
    "    if i>0:\n",
    "        count=count+1\n",
    "print('Total number of rows with missing values is ', count)\n",
    "#print('Since it is only',round((count/len(dataset.index))*100), 'percent of the entire dataset the rows with missing values are excluded.')\n",
    "dataset.isnull().sum()"
   ]
  },
  {
   "cell_type": "markdown",
   "metadata": {},
   "source": [
    "### Some of the features have values that are need to be removed with NaN"
   ]
  },
  {
   "cell_type": "code",
   "execution_count": 8,
   "metadata": {},
   "outputs": [
    {
     "data": {
      "text/html": [
       "<div>\n",
       "<style scoped>\n",
       "    .dataframe tbody tr th:only-of-type {\n",
       "        vertical-align: middle;\n",
       "    }\n",
       "\n",
       "    .dataframe tbody tr th {\n",
       "        vertical-align: top;\n",
       "    }\n",
       "\n",
       "    .dataframe thead th {\n",
       "        text-align: right;\n",
       "    }\n",
       "</style>\n",
       "<table border=\"1\" class=\"dataframe\">\n",
       "  <thead>\n",
       "    <tr style=\"text-align: right;\">\n",
       "      <th></th>\n",
       "      <th>DryBulb</th>\n",
       "      <th>DewPoint</th>\n",
       "      <th>Hour</th>\n",
       "      <th>Weekday</th>\n",
       "      <th>IsWorkingDay</th>\n",
       "      <th>P_W_S_hour_l</th>\n",
       "      <th>P_D_S_hour_l</th>\n",
       "      <th>prev24HrAveLoad</th>\n",
       "      <th>target_variable</th>\n",
       "      <th>weekly_rollingavg</th>\n",
       "      <th>...</th>\n",
       "      <th>48_hour_std</th>\n",
       "      <th>72_hour_mean</th>\n",
       "      <th>72_hour_variance</th>\n",
       "      <th>72_hour_std</th>\n",
       "      <th>12_hours_temp_mean</th>\n",
       "      <th>24_hour_temp_mean</th>\n",
       "      <th>12_hours_temp_std</th>\n",
       "      <th>24_hour_temp_std</th>\n",
       "      <th>12_hours_temp_var</th>\n",
       "      <th>24_hour_temp_var</th>\n",
       "    </tr>\n",
       "  </thead>\n",
       "  <tbody>\n",
       "    <tr>\n",
       "      <th>0</th>\n",
       "      <td>16</td>\n",
       "      <td>3</td>\n",
       "      <td>24</td>\n",
       "      <td>4</td>\n",
       "      <td>1</td>\n",
       "      <td>15138</td>\n",
       "      <td>14315</td>\n",
       "      <td>17191.29167</td>\n",
       "      <td>15138</td>\n",
       "      <td>14949.434524</td>\n",
       "      <td>...</td>\n",
       "      <td>2599.385582</td>\n",
       "      <td>16339.680556</td>\n",
       "      <td>7.472860e+06</td>\n",
       "      <td>2733.653165</td>\n",
       "      <td>4.083333</td>\n",
       "      <td>3.833333</td>\n",
       "      <td>1.164500</td>\n",
       "      <td>1.129319</td>\n",
       "      <td>1.356061</td>\n",
       "      <td>1.275362</td>\n",
       "    </tr>\n",
       "    <tr>\n",
       "      <th>1</th>\n",
       "      <td>15</td>\n",
       "      <td>0</td>\n",
       "      <td>1</td>\n",
       "      <td>5</td>\n",
       "      <td>1</td>\n",
       "      <td>12230</td>\n",
       "      <td>13415</td>\n",
       "      <td>17223.41667</td>\n",
       "      <td>14186</td>\n",
       "      <td>14961.077381</td>\n",
       "      <td>...</td>\n",
       "      <td>2553.601008</td>\n",
       "      <td>16377.763889</td>\n",
       "      <td>7.199145e+06</td>\n",
       "      <td>2683.122159</td>\n",
       "      <td>3.916667</td>\n",
       "      <td>3.625000</td>\n",
       "      <td>1.564279</td>\n",
       "      <td>1.345282</td>\n",
       "      <td>2.446970</td>\n",
       "      <td>1.809783</td>\n",
       "    </tr>\n",
       "    <tr>\n",
       "      <th>2</th>\n",
       "      <td>14</td>\n",
       "      <td>1</td>\n",
       "      <td>2</td>\n",
       "      <td>5</td>\n",
       "      <td>1</td>\n",
       "      <td>11534</td>\n",
       "      <td>12990</td>\n",
       "      <td>17255.37500</td>\n",
       "      <td>13757</td>\n",
       "      <td>14974.309524</td>\n",
       "      <td>...</td>\n",
       "      <td>2497.665642</td>\n",
       "      <td>16415.430556</td>\n",
       "      <td>6.893903e+06</td>\n",
       "      <td>2625.624384</td>\n",
       "      <td>3.833333</td>\n",
       "      <td>3.458333</td>\n",
       "      <td>1.696699</td>\n",
       "      <td>1.413573</td>\n",
       "      <td>2.878788</td>\n",
       "      <td>1.998188</td>\n",
       "    </tr>\n",
       "    <tr>\n",
       "      <th>3</th>\n",
       "      <td>13</td>\n",
       "      <td>0</td>\n",
       "      <td>3</td>\n",
       "      <td>5</td>\n",
       "      <td>1</td>\n",
       "      <td>11038</td>\n",
       "      <td>12832</td>\n",
       "      <td>17287.08333</td>\n",
       "      <td>13593</td>\n",
       "      <td>14989.517857</td>\n",
       "      <td>...</td>\n",
       "      <td>2435.017897</td>\n",
       "      <td>16452.902778</td>\n",
       "      <td>6.575451e+06</td>\n",
       "      <td>2564.264171</td>\n",
       "      <td>3.416667</td>\n",
       "      <td>3.291667</td>\n",
       "      <td>1.975225</td>\n",
       "      <td>1.573674</td>\n",
       "      <td>3.901515</td>\n",
       "      <td>2.476449</td>\n",
       "    </tr>\n",
       "    <tr>\n",
       "      <th>4</th>\n",
       "      <td>12</td>\n",
       "      <td>-1</td>\n",
       "      <td>4</td>\n",
       "      <td>5</td>\n",
       "      <td>1</td>\n",
       "      <td>10777</td>\n",
       "      <td>12866</td>\n",
       "      <td>17318.16667</td>\n",
       "      <td>13612</td>\n",
       "      <td>15006.392857</td>\n",
       "      <td>...</td>\n",
       "      <td>2369.876249</td>\n",
       "      <td>16490.458333</td>\n",
       "      <td>6.254651e+06</td>\n",
       "      <td>2500.930063</td>\n",
       "      <td>3.000000</td>\n",
       "      <td>3.083333</td>\n",
       "      <td>2.335497</td>\n",
       "      <td>1.791688</td>\n",
       "      <td>5.454545</td>\n",
       "      <td>3.210145</td>\n",
       "    </tr>\n",
       "    <tr>\n",
       "      <th>...</th>\n",
       "      <td>...</td>\n",
       "      <td>...</td>\n",
       "      <td>...</td>\n",
       "      <td>...</td>\n",
       "      <td>...</td>\n",
       "      <td>...</td>\n",
       "      <td>...</td>\n",
       "      <td>...</td>\n",
       "      <td>...</td>\n",
       "      <td>...</td>\n",
       "      <td>...</td>\n",
       "      <td>...</td>\n",
       "      <td>...</td>\n",
       "      <td>...</td>\n",
       "      <td>...</td>\n",
       "      <td>...</td>\n",
       "      <td>...</td>\n",
       "      <td>...</td>\n",
       "      <td>...</td>\n",
       "      <td>...</td>\n",
       "      <td>...</td>\n",
       "    </tr>\n",
       "    <tr>\n",
       "      <th>49828</th>\n",
       "      <td>58</td>\n",
       "      <td>53</td>\n",
       "      <td>4</td>\n",
       "      <td>2</td>\n",
       "      <td>1</td>\n",
       "      <td>9408</td>\n",
       "      <td>9990</td>\n",
       "      <td>13135.45833</td>\n",
       "      <td>10015</td>\n",
       "      <td>13613.904762</td>\n",
       "      <td>...</td>\n",
       "      <td>2034.082504</td>\n",
       "      <td>13330.888889</td>\n",
       "      <td>4.417174e+06</td>\n",
       "      <td>2101.707365</td>\n",
       "      <td>56.000000</td>\n",
       "      <td>58.458333</td>\n",
       "      <td>2.088932</td>\n",
       "      <td>3.050006</td>\n",
       "      <td>4.363636</td>\n",
       "      <td>9.302536</td>\n",
       "    </tr>\n",
       "    <tr>\n",
       "      <th>49829</th>\n",
       "      <td>57</td>\n",
       "      <td>53</td>\n",
       "      <td>5</td>\n",
       "      <td>2</td>\n",
       "      <td>1</td>\n",
       "      <td>9473</td>\n",
       "      <td>9972</td>\n",
       "      <td>13147.91667</td>\n",
       "      <td>10271</td>\n",
       "      <td>13618.654762</td>\n",
       "      <td>...</td>\n",
       "      <td>2029.024434</td>\n",
       "      <td>13332.916667</td>\n",
       "      <td>4.404285e+06</td>\n",
       "      <td>2098.638873</td>\n",
       "      <td>55.666667</td>\n",
       "      <td>58.125000</td>\n",
       "      <td>2.229282</td>\n",
       "      <td>3.193914</td>\n",
       "      <td>4.969697</td>\n",
       "      <td>10.201087</td>\n",
       "    </tr>\n",
       "    <tr>\n",
       "      <th>49830</th>\n",
       "      <td>56</td>\n",
       "      <td>52</td>\n",
       "      <td>6</td>\n",
       "      <td>2</td>\n",
       "      <td>1</td>\n",
       "      <td>9740</td>\n",
       "      <td>10171</td>\n",
       "      <td>13192.70833</td>\n",
       "      <td>11246</td>\n",
       "      <td>13627.619048</td>\n",
       "      <td>...</td>\n",
       "      <td>2009.196627</td>\n",
       "      <td>13335.916667</td>\n",
       "      <td>4.390921e+06</td>\n",
       "      <td>2095.452459</td>\n",
       "      <td>55.166667</td>\n",
       "      <td>57.750000</td>\n",
       "      <td>2.329000</td>\n",
       "      <td>3.365425</td>\n",
       "      <td>5.424242</td>\n",
       "      <td>11.326087</td>\n",
       "    </tr>\n",
       "    <tr>\n",
       "      <th>49831</th>\n",
       "      <td>56</td>\n",
       "      <td>52</td>\n",
       "      <td>7</td>\n",
       "      <td>2</td>\n",
       "      <td>1</td>\n",
       "      <td>10039</td>\n",
       "      <td>10539</td>\n",
       "      <td>13297.83333</td>\n",
       "      <td>13062</td>\n",
       "      <td>13645.613095</td>\n",
       "      <td>...</td>\n",
       "      <td>1986.807917</td>\n",
       "      <td>13338.444444</td>\n",
       "      <td>4.389044e+06</td>\n",
       "      <td>2095.004460</td>\n",
       "      <td>54.583333</td>\n",
       "      <td>57.375000</td>\n",
       "      <td>2.151462</td>\n",
       "      <td>3.486776</td>\n",
       "      <td>4.628788</td>\n",
       "      <td>12.157609</td>\n",
       "    </tr>\n",
       "    <tr>\n",
       "      <th>49832</th>\n",
       "      <td>56</td>\n",
       "      <td>52</td>\n",
       "      <td>8</td>\n",
       "      <td>2</td>\n",
       "      <td>1</td>\n",
       "      <td>10761</td>\n",
       "      <td>11222</td>\n",
       "      <td>13429.25000</td>\n",
       "      <td>14376</td>\n",
       "      <td>13667.130952</td>\n",
       "      <td>...</td>\n",
       "      <td>1986.692450</td>\n",
       "      <td>13340.722222</td>\n",
       "      <td>4.393453e+06</td>\n",
       "      <td>2096.056493</td>\n",
       "      <td>54.083333</td>\n",
       "      <td>57.000000</td>\n",
       "      <td>1.975225</td>\n",
       "      <td>3.563096</td>\n",
       "      <td>3.901515</td>\n",
       "      <td>12.695652</td>\n",
       "    </tr>\n",
       "  </tbody>\n",
       "</table>\n",
       "<p>49833 rows × 28 columns</p>\n",
       "</div>"
      ],
      "text/plain": [
       "       DryBulb  DewPoint  Hour  Weekday  IsWorkingDay  P_W_S_hour_l  \\\n",
       "0           16         3    24        4             1         15138   \n",
       "1           15         0     1        5             1         12230   \n",
       "2           14         1     2        5             1         11534   \n",
       "3           13         0     3        5             1         11038   \n",
       "4           12        -1     4        5             1         10777   \n",
       "...        ...       ...   ...      ...           ...           ...   \n",
       "49828       58        53     4        2             1          9408   \n",
       "49829       57        53     5        2             1          9473   \n",
       "49830       56        52     6        2             1          9740   \n",
       "49831       56        52     7        2             1         10039   \n",
       "49832       56        52     8        2             1         10761   \n",
       "\n",
       "       P_D_S_hour_l  prev24HrAveLoad  target_variable  weekly_rollingavg  ...  \\\n",
       "0             14315      17191.29167            15138       14949.434524  ...   \n",
       "1             13415      17223.41667            14186       14961.077381  ...   \n",
       "2             12990      17255.37500            13757       14974.309524  ...   \n",
       "3             12832      17287.08333            13593       14989.517857  ...   \n",
       "4             12866      17318.16667            13612       15006.392857  ...   \n",
       "...             ...              ...              ...                ...  ...   \n",
       "49828          9990      13135.45833            10015       13613.904762  ...   \n",
       "49829          9972      13147.91667            10271       13618.654762  ...   \n",
       "49830         10171      13192.70833            11246       13627.619048  ...   \n",
       "49831         10539      13297.83333            13062       13645.613095  ...   \n",
       "49832         11222      13429.25000            14376       13667.130952  ...   \n",
       "\n",
       "       48_hour_std  72_hour_mean  72_hour_variance  72_hour_std  \\\n",
       "0      2599.385582  16339.680556      7.472860e+06  2733.653165   \n",
       "1      2553.601008  16377.763889      7.199145e+06  2683.122159   \n",
       "2      2497.665642  16415.430556      6.893903e+06  2625.624384   \n",
       "3      2435.017897  16452.902778      6.575451e+06  2564.264171   \n",
       "4      2369.876249  16490.458333      6.254651e+06  2500.930063   \n",
       "...            ...           ...               ...          ...   \n",
       "49828  2034.082504  13330.888889      4.417174e+06  2101.707365   \n",
       "49829  2029.024434  13332.916667      4.404285e+06  2098.638873   \n",
       "49830  2009.196627  13335.916667      4.390921e+06  2095.452459   \n",
       "49831  1986.807917  13338.444444      4.389044e+06  2095.004460   \n",
       "49832  1986.692450  13340.722222      4.393453e+06  2096.056493   \n",
       "\n",
       "       12_hours_temp_mean  24_hour_temp_mean  12_hours_temp_std  \\\n",
       "0                4.083333           3.833333           1.164500   \n",
       "1                3.916667           3.625000           1.564279   \n",
       "2                3.833333           3.458333           1.696699   \n",
       "3                3.416667           3.291667           1.975225   \n",
       "4                3.000000           3.083333           2.335497   \n",
       "...                   ...                ...                ...   \n",
       "49828           56.000000          58.458333           2.088932   \n",
       "49829           55.666667          58.125000           2.229282   \n",
       "49830           55.166667          57.750000           2.329000   \n",
       "49831           54.583333          57.375000           2.151462   \n",
       "49832           54.083333          57.000000           1.975225   \n",
       "\n",
       "       24_hour_temp_std  12_hours_temp_var  24_hour_temp_var  \n",
       "0              1.129319           1.356061          1.275362  \n",
       "1              1.345282           2.446970          1.809783  \n",
       "2              1.413573           2.878788          1.998188  \n",
       "3              1.573674           3.901515          2.476449  \n",
       "4              1.791688           5.454545          3.210145  \n",
       "...                 ...                ...               ...  \n",
       "49828          3.050006           4.363636          9.302536  \n",
       "49829          3.193914           4.969697         10.201087  \n",
       "49830          3.365425           5.424242         11.326087  \n",
       "49831          3.486776           4.628788         12.157609  \n",
       "49832          3.563096           3.901515         12.695652  \n",
       "\n",
       "[49833 rows x 28 columns]"
      ]
     },
     "execution_count": 8,
     "metadata": {},
     "output_type": "execute_result"
    }
   ],
   "source": [
    "# Removeing the NaN and checking the dataset set. This is the inital filtering of the data.\n",
    "dataset_new=dataset.dropna().reset_index(drop=True)\n",
    "dataset_new"
   ]
  },
  {
   "cell_type": "code",
   "execution_count": 9,
   "metadata": {},
   "outputs": [
    {
     "name": "stdout",
     "output_type": "stream",
     "text": [
      "Total number of rows with missing values is  0\n"
     ]
    },
    {
     "data": {
      "text/plain": [
       "DryBulb               0\n",
       "DewPoint              0\n",
       "Hour                  0\n",
       "Weekday               0\n",
       "IsWorkingDay          0\n",
       "P_W_S_hour_l          0\n",
       "P_D_S_hour_l          0\n",
       "prev24HrAveLoad       0\n",
       "target_variable       0\n",
       "weekly_rollingavg     0\n",
       "weekly_std            0\n",
       "daily_std             0\n",
       "weekly_varience       0\n",
       "daily_varience        0\n",
       "weekly_median         0\n",
       "daily_meadian         0\n",
       "48_hour_mean          0\n",
       "48_hour_variance      0\n",
       "48_hour_std           0\n",
       "72_hour_mean          0\n",
       "72_hour_variance      0\n",
       "72_hour_std           0\n",
       "12_hours_temp_mean    0\n",
       "24_hour_temp_mean     0\n",
       "12_hours_temp_std     0\n",
       "24_hour_temp_std      0\n",
       "12_hours_temp_var     0\n",
       "24_hour_temp_var      0\n",
       "dtype: int64"
      ]
     },
     "execution_count": 9,
     "metadata": {},
     "output_type": "execute_result"
    }
   ],
   "source": [
    "count=0\n",
    "for i in dataset_new.isnull().sum(axis=1):\n",
    "    if i>0:\n",
    "        count=count+1\n",
    "print('Total number of rows with missing values is ', count)\n",
    "#print('Since it is only',round((count/len(dataset.index))*100), 'percent of the entire dataset the rows with missing values are excluded.')\n",
    "dataset_new.isnull().sum()"
   ]
  },
  {
   "cell_type": "markdown",
   "metadata": {},
   "source": [
    "# Check the shape of the current dataset"
   ]
  },
  {
   "cell_type": "code",
   "execution_count": 10,
   "metadata": {},
   "outputs": [
    {
     "name": "stdout",
     "output_type": "stream",
     "text": [
      "The shape of the dataset: (49833, 28)\n"
     ]
    }
   ],
   "source": [
    "print('The shape of the dataset:', dataset_new.shape)\n",
    "\n",
    "# out of 28, 27 are the input variables which includes the statisitcal and contextual features\n",
    "\n",
    "# the target value is the \"target_variable\" which is predicted using machine learning\n",
    "\n",
    "# The 'target_variable' is the actual hourly load on substation level."
   ]
  },
  {
   "cell_type": "markdown",
   "metadata": {},
   "source": [
    "# Preparing the Input and target values for model training"
   ]
  },
  {
   "cell_type": "code",
   "execution_count": 11,
   "metadata": {},
   "outputs": [
    {
     "name": "stdout",
     "output_type": "stream",
     "text": [
      "Shape of the Input data: (49833, 27)\n",
      "Shape of the target variable: (49833,)\n",
      "Data type of the input features: float64\n"
     ]
    }
   ],
   "source": [
    "# Seperating the input and target variables for and converting them into numpy array.\n",
    "\n",
    "\n",
    "\n",
    "input_features = np.array(dataset_new.drop('target_variable', axis=1))         # Features\n",
    "target_values = np.array(dataset_new['target_variable'])                       # Output\n",
    "\n",
    "\n",
    "print('Shape of the Input data:', input_features.shape)\n",
    "print('Shape of the target variable:', target_values.shape)\n",
    "\n",
    "\n",
    "print('Data type of the input features:', input_features.dtype)"
   ]
  },
  {
   "cell_type": "markdown",
   "metadata": {},
   "source": [
    "## Q1. Predict `y` using a single feature of `x`"
   ]
  },
  {
   "cell_type": "markdown",
   "metadata": {},
   "source": [
    "Here we define a function, **one_feature_regression**, that takes `x` and `y`, along with the index `f` of a single feature and fits a linear regressor to `(x[f],y)`. It then plots the data along with the resulting line."
   ]
  },
  {
   "cell_type": "code",
   "execution_count": 12,
   "metadata": {},
   "outputs": [],
   "source": [
    "def one_feature_regression(x,y,f):\n",
    "\n",
    "    '''\n",
    "    x -> one inpu feature\n",
    "\n",
    "    y -> Target value\n",
    "\n",
    "    f -> index of feature\n",
    "    '''\n",
    "\n",
    "\n",
    "    if (f < 0) or (f > 26):            # Because the total number of features in this dataset are 27\n",
    "        print(\"Feature index is out of bounds\")\n",
    "        return\n",
    "    regr = linear_model.LinearRegression()          # simple linear regressing model y=mx + c  where y output, x input, m slope, c intesecpt.\n",
    "    x1 = x[:,[f]]\n",
    "    regr.fit(x1, y)\n",
    "    # Make predictions using the model\n",
    "    y_pred = regr.predict(x1)\n",
    "    # Plot data points as well as predictions\n",
    "    plt.plot(x1, y, 'bo')\n",
    "    plt.plot(x1, y_pred, 'r-', linewidth=3)\n",
    "    plt.xlabel(features[f], fontsize=14)\n",
    "    plt.ylabel('Load Progression', fontsize=14)\n",
    "    plt.show()\n",
    "    print(\"Mean squared error: \", mean_squared_error(y, y_pred))     # Loss function which will be reduced using machine learning\n",
    "    print('Mean Absolute Percentage Errror', mean_absolute_percentage_error(y, y_pred)*100)\n",
    "    return regr"
   ]
  },
  {
   "cell_type": "markdown",
   "metadata": {},
   "source": [
    "### (a) You have been given one_feature_regression function. Please change the index f to change the feature and develop a regression model. Compute the MSE, w, and b? (b)."
   ]
  },
  {
   "cell_type": "code",
   "execution_count": 13,
   "metadata": {},
   "outputs": [
    {
     "data": {
      "image/png": "[encoded data removed]",
      "text/plain": [
       "<Figure size 432x288 with 1 Axes>"
      ]
     },
     "metadata": {
      "needs_background": "light"
     },
     "output_type": "display_data"
    },
    {
     "name": "stdout",
     "output_type": "stream",
     "text": [
      "Mean squared error:  6059032.55740701\n",
      "Mean Absolute Percentage Errror 14.965036376912133\n",
      "Weights is %f, and Bais is %f (array([0.95813537]), 632.8332119539082)\n"
     ]
    }
   ],
   "source": [
    "# In the given example we are using the feature number 7 to train the regression model\n",
    "\n",
    "OneF_reg = one_feature_regression(input_features,target_values,7)    # Fearure is prev24HrAvgLoad\n",
    "\n",
    "\n",
    "w = OneF_reg.coef_\n",
    "b = OneF_reg.intercept_\n",
    "\n",
    "# Weights of regress\n",
    "\n",
    "print('Weights is %f, and Bais is %f', (w, b))    # 1 feature: 1 weight\n",
    "\n",
    "# This function provides the single feature regress along with the value of loss and MAPE. \n",
    "# The x-axis give the name of feature used for regression.\n",
    "\n",
    "\n",
    "# Find the one feature with mininmim MSE or MAPE. (Hint: simply substitute the f index in the above function calling."
   ]
  },
  {
   "cell_type": "markdown",
   "metadata": {},
   "source": [
    "## Q2. Predict `y` using a specified subset of features from `x`"
   ]
  },
  {
   "cell_type": "markdown",
   "metadata": {},
   "source": [
    "The function **feature_subset_regression** is just like **one_feature_regression**, but this time uses a list of features `flist`."
   ]
  },
  {
   "cell_type": "code",
   "execution_count": 14,
   "metadata": {},
   "outputs": [],
   "source": [
    "def feature_subset_regression(x,y,flist):\n",
    "\n",
    "    '''\n",
    "    x -> input features\n",
    "    y -> target values\n",
    "\n",
    "    flist -> subset of feature for model training: pass list of the feature intex  [6,7] for feature number 7 and 8\n",
    "    '''\n",
    "\n",
    "\n",
    "    if len(flist) < 1:\n",
    "        print(\"Need at least one feature\")\n",
    "        return\n",
    "    for f in flist:\n",
    "        if (f < 0) or (f > 26):\n",
    "            print(\"Feature index is out of bounds\")\n",
    "            return\n",
    "    regr = linear_model.LinearRegression()\n",
    "    x1 = x[:,flist]\n",
    "    regr.fit(x1, y)\n",
    "    # Make predictions using the model\n",
    "    y_pred = regr.predict(x1)\n",
    "\n",
    "    print(\"Mean squared error: \", mean_squared_error(y, y_pred))\n",
    "    print('Mean Absolute Percentage Errror', mean_absolute_percentage_error(y, y_pred)*100)\n",
    "    return regr"
   ]
  },
  {
   "cell_type": "markdown",
   "metadata": {},
   "source": [
    "### (a) Using the *feature_subset_regression*, calculate MSE, w and b using features #7 (P_D_S_hour_l) and #8 (prev24HrAveLoad). (b) Calculate MSE and MAPE using all 8 features?"
   ]
  },
  {
   "cell_type": "code",
   "execution_count": 15,
   "metadata": {},
   "outputs": [
    {
     "name": "stdout",
     "output_type": "stream",
     "text": [
      "Mean squared error:  976633.829681334\n",
      "Mean Absolute Percentage Errror 4.686824201868077\n",
      "Weights is %f, and Bais is %f (array([ 0.46314764,  0.46278269,  0.4967366 , -0.43293858]), 153.7483479206203)\n"
     ]
    }
   ],
   "source": [
    "# In this example we will use the feature number 6,7,8,9 and for regressing\n",
    "\n",
    "\n",
    "mul_f = feature_subset_regression(input_features, target_values, [5,6,7,8])   # rememeber index starts for 0\n",
    "\n",
    "# With multiple feature feature the loss function starts to decrease. \n",
    "\n",
    "\n",
    "w = mul_f.coef_\n",
    "b = mul_f.intercept_\n",
    "\n",
    "# Weights of regress\n",
    "\n",
    "print('Weights is %f, and Bais is %f', (w, b))   # four feature four weights\n"
   ]
  },
  {
   "cell_type": "markdown",
   "metadata": {},
   "source": [
    "# Use all 27 Features for regression analysis"
   ]
  },
  {
   "cell_type": "code",
   "execution_count": 16,
   "metadata": {},
   "outputs": [
    {
     "name": "stdout",
     "output_type": "stream",
     "text": [
      "Mean squared error:  571703.09101272\n",
      "Mean Absolute Percentage Errror 3.713353901065962\n",
      "Length Weights is %f, and Bais is %f (27, 459.1705581532133)\n",
      "---------------------------------------------\n",
      "Length Weights is %f, and Bais is %f (array([ 5.47517470e+00,  2.79352589e+00,  1.31950104e+01, -1.34976706e+02,\n",
      "        3.10126259e+02,  3.11938564e-01,  6.13882061e-01,  2.12141814e+00,\n",
      "       -7.92006807e-01,  9.27027003e-01, -1.37502132e+00, -1.11466140e-04,\n",
      "        1.80822147e-04,  2.39789257e-01, -4.21593458e-01, -2.18867246e+00,\n",
      "        2.28940788e-05, -2.40510820e-01,  1.08456377e+00, -1.14094287e-04,\n",
      "        8.33604110e-01, -2.40569028e+00, -8.39153315e-01,  1.09890372e+01,\n",
      "       -6.82829482e+01, -6.47684817e-01,  6.13644296e+00]), 459.1705581532133)\n"
     ]
    }
   ],
   "source": [
    "# Using all features for regression\n",
    "\n",
    "feature_list = [i for i in range(27)]\n",
    "\n",
    "reg = feature_subset_regression(input_features, target_values, feature_list)\n",
    "\n",
    "\n",
    "w = reg.coef_\n",
    "b = reg.intercept_\n",
    "\n",
    "# Weights of regress\n",
    "\n",
    "print('Length Weights is %f, and Bais is %f', (len(w), b))   # 27 feature four weights\n",
    "\n",
    "print('---------------------------------------------')\n",
    "\n",
    "print('Length Weights is %f, and Bais is %f', (w, b))\n"
   ]
  },
  {
   "cell_type": "markdown",
   "metadata": {},
   "source": [
    "## Q3. Splitting the data into a training and test set"
   ]
  },
  {
   "cell_type": "markdown",
   "metadata": {},
   "source": [
    "In the experiments above, every model was fit to the *entire* data set and its mean squared error was evaluated on this same data set. This methodology would not, in general, yield accurate estimates of future error. In this specific case, however, the discrepancy might not be too bad because the data set is quite large relative to the number of features."
   ]
  },
  {
   "cell_type": "markdown",
   "metadata": {},
   "source": [
    "To investigate this further, we define a procedure **split_data** that partitions the data set into separate training and test sets. It is invoked as follows:\n",
    "\n",
    "* `trainx, trainy, testx, testy = split_data(n_train)`\n",
    "\n",
    "Here:\n",
    "* `n_train` is the desired number of training points\n",
    "* `trainx` and `trainy` are the training points and response values\n",
    "* `testx` and `testy` are the test points and response values\n",
    "\n",
    "The split is done randomly, but the random seed is fixed, and thus the same split is produced if the procedure is called repeatedly with the same `n_train` parameter."
   ]
  },
  {
   "cell_type": "code",
   "execution_count": 17,
   "metadata": {},
   "outputs": [],
   "source": [
    "def split_data(n_train):\n",
    "    if (n_train < 0) or (n_train > 48000):\n",
    "        print(\"Invalid number of training points\")\n",
    "        return\n",
    "    np.random.seed(0)\n",
    "    perm = np.random.permutation(48000)\n",
    "    training_indices = perm[range(0,n_train)]\n",
    "    test_indices = perm[range(n_train,48000)]\n",
    "    trainx = input_features[training_indices,:]\n",
    "    trainy = target_values[training_indices]\n",
    "    testx = input_features[test_indices,:]\n",
    "    testy = target_values[test_indices]\n",
    "    return trainx, trainy, testx, testy"
   ]
  },
  {
   "cell_type": "markdown",
   "metadata": {},
   "source": [
    "Using the **split_data** procedure to partition the data set, compute the training MSE and test MSE when fitting a regressor to *all* features, for the following training set sizes:\n",
    "* `n_train = 20000`\n",
    "* `n_train = 25000`\n",
    "* `n_train = 30000`\n",
    "* `n_train = 40000`"
   ]
  },
  {
   "cell_type": "code",
   "execution_count": 18,
   "metadata": {},
   "outputs": [
    {
     "name": "stdout",
     "output_type": "stream",
     "text": [
      "For Training size=%d, the test MSE is :%f, and MAPE is :%f 40000 555848.7090304256 3.685370838231248\n"
     ]
    }
   ],
   "source": [
    "n_train = 40000\n",
    "\n",
    "# splitting the data\n",
    "xtrain, ytrain, xtest, ytest =split_data(n_train)\n",
    "\n",
    "# Generating the model\n",
    "reg = linear_model.LinearRegression()\n",
    "\n",
    "# Model training\n",
    "reg.fit(xtrain, ytrain)\n",
    "\n",
    "# Prediction\n",
    "\n",
    "y_pred = reg.predict(xtest)\n",
    "\n",
    "# MSE\n",
    "mse = mean_squared_error(ytest, y_pred)\n",
    "MAPE = mean_absolute_percentage_error(ytest, y_pred)*100\n",
    "\n",
    "print('For Training size=%d, the test MSE is :%f, and MAPE is :%f', n_train, mse, MAPE)\n",
    "\n",
    "\n",
    "# You can change the values of n_train and see the impact on MSE and MAPE"
   ]
  },
  {
   "cell_type": "markdown",
   "metadata": {},
   "source": [
    "## Q4: Apply Min-Max feature scaling to normalize the data and caluclate the MSE and MAPE on features"
   ]
  },
  {
   "cell_type": "code",
   "execution_count": 19,
   "metadata": {},
   "outputs": [
    {
     "name": "stdout",
     "output_type": "stream",
     "text": [
      "Mean squared error:  571703.0910127201\n",
      "Mean Absolute Percentage Errror 3.71335390107043\n"
     ]
    }
   ],
   "source": [
    "from sklearn.preprocessing import MinMaxScaler\n",
    "scaler = MinMaxScaler()\n",
    "x_scaled=scaler.fit_transform(input_features)\n",
    "\n",
    "\n",
    "\n",
    "# training the model using scaled features\n",
    "\n",
    "reg_scaled = feature_subset_regression(x_scaled, target_values, feature_list) \n",
    "\n",
    "# function defined previously for using subset and all features for regression.\n",
    "\n"
   ]
  },
  {
   "cell_type": "markdown",
   "metadata": {},
   "source": [
    "## Q5: Use test train split to divide the dataset in 70-30 and applying the decision tree and Random forest algorithms using sklearn library"
   ]
  },
  {
   "cell_type": "markdown",
   "metadata": {},
   "source": [
    "Find the MSE and MAPE for both decision tree and random forest and compare it with linear regression and Plot the actual and predicted results of first 168 hours (weekly plot)"
   ]
  },
  {
   "cell_type": "code",
   "execution_count": 20,
   "metadata": {},
   "outputs": [],
   "source": [
    "# Importing the libraries for decision tree and random forest for sklearn\n",
    "\n",
    "from sklearn.tree import DecisionTreeRegressor  \n",
    "from sklearn.ensemble import RandomForestRegressor\n",
    "import time"
   ]
  },
  {
   "cell_type": "markdown",
   "metadata": {},
   "source": [
    "# Decision Tree Using sklearn"
   ]
  },
  {
   "cell_type": "code",
   "execution_count": 21,
   "metadata": {},
   "outputs": [],
   "source": [
    "# Creating the test train split using sklearn library\n",
    "\n",
    "# split is kept 70 - 30\n",
    "\n",
    "# the data is not shaffled\n",
    "\n",
    "x_train, x_test, y_train, y_test = train_test_split(input_features,target_values, test_size=0.3, \n",
    "                                                        random_state=42, shuffle=False)  "
   ]
  },
  {
   "cell_type": "code",
   "execution_count": 22,
   "metadata": {},
   "outputs": [
    {
     "name": "stdout",
     "output_type": "stream",
     "text": [
      "Model Performance\n",
      "-----------------------------------------------------------\n",
      "Decision Tree convergence time in seconds: 1.3246309757232666\n",
      "-----------------------------------------------------------\n",
      "MSE: 455602.34280936455\n",
      "MAPE: 3.1657550520363333\n"
     ]
    }
   ],
   "source": [
    "'''\n",
    "DecisionTreeRegressor(*, criterion='squared_error', splitter='best', max_depth=None, min_samples_split=2, \n",
    "                        min_samples_leaf=1, min_weight_fraction_leaf=0.0, \n",
    "                        max_features=None, random_state=None, max_leaf_nodes=None, \n",
    "                        min_impurity_decrease=0.0, ccp_alpha=0.0)\n",
    "\n",
    "'''\n",
    "\n",
    "# creating a DF using the default parameters\n",
    "\n",
    "DT = DecisionTreeRegressor()    # Change parameter, write the parameter name and values in the function called\n",
    "\n",
    "# Model training\n",
    "\n",
    "start = time.time()\n",
    "DT = DT.fit(x_train, y_train)\n",
    "stop = time.time()\n",
    "\n",
    "dt_time = stop-start\n",
    "\n",
    "# model prediction\n",
    "\n",
    "y_pred_dt = DT.predict(x_test)\n",
    "\n",
    "# model evaluation\n",
    "\n",
    "print('Model Performance')\n",
    "\n",
    "print('-----------------------------------------------------------')\n",
    "\n",
    "print('Decision Tree convergence time in seconds:', dt_time)\n",
    "\n",
    "print('-----------------------------------------------------------')\n",
    "\n",
    "print('MSE:', mean_squared_error(y_test, y_pred_dt))\n",
    "print('MAPE:', mean_absolute_percentage_error(y_test, y_pred_dt)*100)\n",
    "\n"
   ]
  },
  {
   "cell_type": "markdown",
   "metadata": {},
   "source": [
    "To further optimise the model and improve performance, the parameters of the model are change.\n",
    "\n",
    "The process of obtaining the optimal model parameter is termed as hyperparameter tuning."
   ]
  },
  {
   "cell_type": "markdown",
   "metadata": {},
   "source": [
    "# Weekly Plot of Decsion Tree "
   ]
  },
  {
   "cell_type": "code",
   "execution_count": 23,
   "metadata": {},
   "outputs": [
    {
     "data": {
      "image/png": "[encoded data removed]",
      "text/plain": [
       "<Figure size 432x288 with 1 Axes>"
      ]
     },
     "metadata": {
      "needs_background": "light"
     },
     "output_type": "display_data"
    }
   ],
   "source": [
    "# Plot the the results of actual vs predicted values\n",
    "\n",
    "plt.plot(y_test[1800:1968], 'b--', label='Actual')\n",
    "plt.plot(y_pred_dt[1800:1968], 'r-', label='Predicted')\n",
    "plt.title('Decision Tree Results')\n",
    "plt.xlabel('Hourly Time')\n",
    "plt.ylabel('Load in MW')\n",
    "\n",
    "plt.legend(loc='upper left')\n",
    "\n",
    "figsize=(20,16)"
   ]
  },
  {
   "cell_type": "markdown",
   "metadata": {},
   "source": [
    "# Random Forest Uisng Sklearn"
   ]
  },
  {
   "cell_type": "code",
   "execution_count": 24,
   "metadata": {},
   "outputs": [
    {
     "name": "stdout",
     "output_type": "stream",
     "text": [
      "Model Performance\n",
      "-----------------------------------------------------------\n",
      "Random Forest Convergence time in seconds: 15.545804262161255\n",
      "-----------------------------------------------------------\n",
      "MSE: 172318.2429601801\n",
      "MAPE: 2.0337108490351374\n"
     ]
    }
   ],
   "source": [
    "''' \n",
    "RandomForestRegressor(n_estimators=100, *, criterion='squared_error', max_depth=None, min_samples_split=2, \n",
    "                    min_samples_leaf=1, min_weight_fraction_leaf=0.0, max_features=1.0, max_leaf_nodes=None, \n",
    "                    min_impurity_decrease=0.0, bootstrap=True, oob_score=False, n_jobs=None, random_state=None, \n",
    "                    verbose=0, warm_start=False, ccp_alpha=0.0, max_samples=None)\n",
    "'''\n",
    "\n",
    "\n",
    "# Parameters for random forest classifier\n",
    "# In this case, instead of using the default parameter, some of the parameter are been changed\n",
    "# Further, the parameter tuning is done using either grid search, random search or other techniques\n",
    "\n",
    "\n",
    "from random import random\n",
    "from tkinter import N\n",
    "from sklearn.ensemble import RandomForestRegressor\n",
    "\n",
    "\n",
    "# create the model\n",
    "\n",
    "rf = RandomForestRegressor(n_estimators=200, max_depth=30, n_jobs=-1, random_state=42)\n",
    "\n",
    "# train the model\n",
    "\n",
    "start = time.time()\n",
    "\n",
    "rf.fit(x_train, y_train)\n",
    "\n",
    "stop = time.time()\n",
    "\n",
    "rf_time = stop-start\n",
    "# model predction\n",
    "\n",
    "y_pred_rf = rf.predict(x_test)\n",
    "\n",
    "\n",
    "\n",
    "# model evaluation\n",
    "\n",
    "print('Model Performance')\n",
    "\n",
    "print('-----------------------------------------------------------')\n",
    "\n",
    "print('Random Forest Convergence time in seconds:', rf_time)\n",
    "\n",
    "print('-----------------------------------------------------------')\n",
    "\n",
    "print('MSE:', mean_squared_error(y_test, y_pred_rf))\n",
    "print('MAPE:', mean_absolute_percentage_error(y_test, y_pred_rf)*100)\n"
   ]
  },
  {
   "cell_type": "code",
   "execution_count": 25,
   "metadata": {},
   "outputs": [
    {
     "data": {
      "image/png": "[encoded data removed]",
      "text/plain": [
       "<Figure size 432x288 with 1 Axes>"
      ]
     },
     "metadata": {
      "needs_background": "light"
     },
     "output_type": "display_data"
    }
   ],
   "source": [
    "# Plot the the results of actual vs predicted values\n",
    "\n",
    "plt.plot(y_test[1800:1968], 'b--', label='Actual')\n",
    "plt.plot(y_pred_rf[1800:1968], 'r-', label='Predicted')\n",
    "plt.title('Random Forest Results')\n",
    "plt.xlabel('Hourly Time')\n",
    "plt.ylabel('Load in MW')\n",
    "\n",
    "plt.legend(loc='upper left')\n",
    "\n",
    "figsize=(20,16)"
   ]
  },
  {
   "cell_type": "markdown",
   "metadata": {},
   "source": [
    "For the above results, it is clearly evident that Random Forest performs better the DT and Linear Regression of this particular problem. \n",
    "\n",
    "The original dataset is expended to obtain 27 feature vecotors and analysis is done. Using linear regression, a short investigation is done on \n",
    "the impact of different feature set on the performace of model\n",
    "\n",
    "Decision Tress and Random Forest models are trained and evaluated using the 27 feature and results shows the performace of RF is better then DT.\n",
    "\n",
    "\n",
    "However, in machine learning the input feature set has a huge impact on the performance of the model. Therefore, we will perform an analysis on the\n",
    "feature importance and overall impact on the model performmance. Further, will smaller feature set the model convergence can be reduced."
   ]
  },
  {
   "cell_type": "markdown",
   "metadata": {},
   "source": [
    "# Features Importance Mechanism\n",
    "\n",
    "Feature Elemination or Dimensiontality Reduction\n",
    "\n",
    "\n",
    "- The idea is to identify the most useful features for the dataset\n",
    "- Use the best features for model training to reduce the complexity and improve the performance"
   ]
  },
  {
   "cell_type": "code",
   "execution_count": 26,
   "metadata": {},
   "outputs": [
    {
     "data": {
      "text/plain": [
       "RandomForestRegressor(max_depth=30, n_estimators=200, n_jobs=-1,\n",
       "                      random_state=42)"
      ]
     },
     "execution_count": 26,
     "metadata": {},
     "output_type": "execute_result"
    }
   ],
   "source": [
    "# Random forest for obtaining the feature importance\n",
    "\n",
    "\n",
    "# create RF model\n",
    "\n",
    "rf_1 = RandomForestRegressor(n_estimators=200, max_depth=30, n_jobs=-1, random_state=42)\n",
    "\n",
    "# parameter are same as previous example for fair comparision\n",
    "\n",
    "rf_1.fit(input_features, target_values)\n"
   ]
  },
  {
   "cell_type": "code",
   "execution_count": 27,
   "metadata": {},
   "outputs": [
    {
     "name": "stdout",
     "output_type": "stream",
     "text": [
      "Features: ['DryBulb', 'DewPoint', 'Hour', 'Weekday', 'IsWorkingDay', 'P_W_S_hour_l', 'P_D_S_hour_l', 'prev24HrAveLoad', 'weekly_rollingavg', 'weekly_std', 'daily_std', 'weekly_varience', 'daily_varience', 'weekly_median', 'daily_meadian', '48_hour_mean', '48_hour_variance', '48_hour_std', '72_hour_mean', '72_hour_variance', '72_hour_std', '12_hours_temp_mean', '24_hour_temp_mean', '12_hours_temp_std', '24_hour_temp_std', '12_hours_temp_var', '24_hour_temp_var']\n",
      "--------------------------------------\n",
      "Number of features: 27\n"
     ]
    }
   ],
   "source": [
    "print('Features:', features)\n",
    "\n",
    "print('--------------------------------------')\n",
    "print('Number of features:', len(features))"
   ]
  },
  {
   "cell_type": "code",
   "execution_count": 28,
   "metadata": {},
   "outputs": [],
   "source": [
    "# !pip install scikit-plot\n",
    "!pip install yellowbrick"
   ]
  },
  {
   "cell_type": "code",
   "execution_count": 29,
   "metadata": {},
   "outputs": [
    {
     "data": {
      "text/plain": [
       "Text(0, 0.5, 'Gini Importance')"
      ]
     },
     "execution_count": 29,
     "metadata": {},
     "output_type": "execute_result"
    },
    {
     "data": {
      "image/png": "[encoded data removed]",
      "text/plain": [
       "<Figure size 1152x720 with 1 Axes>"
      ]
     },
     "metadata": {
      "needs_background": "light"
     },
     "output_type": "display_data"
    }
   ],
   "source": [
    "import scikitplot as skplt\n",
    "\n",
    "skplt.estimators.plot_feature_importances(rf_1, feature_names=features,\n",
    "                                            max_num_features= 10,\n",
    "                                            x_tick_rotation=45,\n",
    "                                            ax=None, figsize=(16,10))\n",
    "plt.title('Feature Importances for Random Forest Model', fontsize=20)\n",
    "plt.xlabel(\"Features\", fontsize=30,color='0.4')\n",
    "plt.ylabel(\"Gini Importance\", fontsize=30,color='0.2')\n"
   ]
  },
  {
   "cell_type": "markdown",
   "metadata": {},
   "source": [
    "# Selecting the Features based on the Importance"
   ]
  },
  {
   "cell_type": "code",
   "execution_count": 30,
   "metadata": {},
   "outputs": [
    {
     "data": {
      "text/html": [
       "<div>\n",
       "<style scoped>\n",
       "    .dataframe tbody tr th:only-of-type {\n",
       "        vertical-align: middle;\n",
       "    }\n",
       "\n",
       "    .dataframe tbody tr th {\n",
       "        vertical-align: top;\n",
       "    }\n",
       "\n",
       "    .dataframe thead th {\n",
       "        text-align: right;\n",
       "    }\n",
       "</style>\n",
       "<table border=\"1\" class=\"dataframe\">\n",
       "  <thead>\n",
       "    <tr style=\"text-align: right;\">\n",
       "      <th></th>\n",
       "      <th>P_W_S_hour_l</th>\n",
       "      <th>P_D_S_hour_l</th>\n",
       "      <th>DryBulb</th>\n",
       "      <th>daily_meadian</th>\n",
       "      <th>Hour</th>\n",
       "      <th>prev24HrAveLoad</th>\n",
       "      <th>IsWorkingDay</th>\n",
       "      <th>Weekday</th>\n",
       "      <th>DewPoint</th>\n",
       "      <th>12_hours_temp_mean</th>\n",
       "    </tr>\n",
       "  </thead>\n",
       "  <tbody>\n",
       "    <tr>\n",
       "      <th>0</th>\n",
       "      <td>15138</td>\n",
       "      <td>14315</td>\n",
       "      <td>16</td>\n",
       "      <td>18298.5</td>\n",
       "      <td>24</td>\n",
       "      <td>17191.29167</td>\n",
       "      <td>1</td>\n",
       "      <td>4</td>\n",
       "      <td>3</td>\n",
       "      <td>4.083333</td>\n",
       "    </tr>\n",
       "    <tr>\n",
       "      <th>1</th>\n",
       "      <td>12230</td>\n",
       "      <td>13415</td>\n",
       "      <td>15</td>\n",
       "      <td>18298.5</td>\n",
       "      <td>1</td>\n",
       "      <td>17223.41667</td>\n",
       "      <td>1</td>\n",
       "      <td>5</td>\n",
       "      <td>0</td>\n",
       "      <td>3.916667</td>\n",
       "    </tr>\n",
       "    <tr>\n",
       "      <th>2</th>\n",
       "      <td>11534</td>\n",
       "      <td>12990</td>\n",
       "      <td>14</td>\n",
       "      <td>18298.5</td>\n",
       "      <td>2</td>\n",
       "      <td>17255.37500</td>\n",
       "      <td>1</td>\n",
       "      <td>5</td>\n",
       "      <td>1</td>\n",
       "      <td>3.833333</td>\n",
       "    </tr>\n",
       "    <tr>\n",
       "      <th>3</th>\n",
       "      <td>11038</td>\n",
       "      <td>12832</td>\n",
       "      <td>13</td>\n",
       "      <td>18298.5</td>\n",
       "      <td>3</td>\n",
       "      <td>17287.08333</td>\n",
       "      <td>1</td>\n",
       "      <td>5</td>\n",
       "      <td>0</td>\n",
       "      <td>3.416667</td>\n",
       "    </tr>\n",
       "    <tr>\n",
       "      <th>4</th>\n",
       "      <td>10777</td>\n",
       "      <td>12866</td>\n",
       "      <td>12</td>\n",
       "      <td>18298.5</td>\n",
       "      <td>4</td>\n",
       "      <td>17318.16667</td>\n",
       "      <td>1</td>\n",
       "      <td>5</td>\n",
       "      <td>-1</td>\n",
       "      <td>3.000000</td>\n",
       "    </tr>\n",
       "    <tr>\n",
       "      <th>...</th>\n",
       "      <td>...</td>\n",
       "      <td>...</td>\n",
       "      <td>...</td>\n",
       "      <td>...</td>\n",
       "      <td>...</td>\n",
       "      <td>...</td>\n",
       "      <td>...</td>\n",
       "      <td>...</td>\n",
       "      <td>...</td>\n",
       "      <td>...</td>\n",
       "    </tr>\n",
       "    <tr>\n",
       "      <th>49828</th>\n",
       "      <td>9408</td>\n",
       "      <td>9990</td>\n",
       "      <td>58</td>\n",
       "      <td>13773.0</td>\n",
       "      <td>4</td>\n",
       "      <td>13135.45833</td>\n",
       "      <td>1</td>\n",
       "      <td>2</td>\n",
       "      <td>53</td>\n",
       "      <td>56.000000</td>\n",
       "    </tr>\n",
       "    <tr>\n",
       "      <th>49829</th>\n",
       "      <td>9473</td>\n",
       "      <td>9972</td>\n",
       "      <td>57</td>\n",
       "      <td>13773.0</td>\n",
       "      <td>5</td>\n",
       "      <td>13147.91667</td>\n",
       "      <td>1</td>\n",
       "      <td>2</td>\n",
       "      <td>53</td>\n",
       "      <td>55.666667</td>\n",
       "    </tr>\n",
       "    <tr>\n",
       "      <th>49830</th>\n",
       "      <td>9740</td>\n",
       "      <td>10171</td>\n",
       "      <td>56</td>\n",
       "      <td>13773.0</td>\n",
       "      <td>6</td>\n",
       "      <td>13192.70833</td>\n",
       "      <td>1</td>\n",
       "      <td>2</td>\n",
       "      <td>52</td>\n",
       "      <td>55.166667</td>\n",
       "    </tr>\n",
       "    <tr>\n",
       "      <th>49831</th>\n",
       "      <td>10039</td>\n",
       "      <td>10539</td>\n",
       "      <td>56</td>\n",
       "      <td>13773.0</td>\n",
       "      <td>7</td>\n",
       "      <td>13297.83333</td>\n",
       "      <td>1</td>\n",
       "      <td>2</td>\n",
       "      <td>52</td>\n",
       "      <td>54.583333</td>\n",
       "    </tr>\n",
       "    <tr>\n",
       "      <th>49832</th>\n",
       "      <td>10761</td>\n",
       "      <td>11222</td>\n",
       "      <td>56</td>\n",
       "      <td>14246.0</td>\n",
       "      <td>8</td>\n",
       "      <td>13429.25000</td>\n",
       "      <td>1</td>\n",
       "      <td>2</td>\n",
       "      <td>52</td>\n",
       "      <td>54.083333</td>\n",
       "    </tr>\n",
       "  </tbody>\n",
       "</table>\n",
       "<p>49833 rows × 10 columns</p>\n",
       "</div>"
      ],
      "text/plain": [
       "       P_W_S_hour_l  P_D_S_hour_l  DryBulb  daily_meadian  Hour  \\\n",
       "0             15138         14315       16        18298.5    24   \n",
       "1             12230         13415       15        18298.5     1   \n",
       "2             11534         12990       14        18298.5     2   \n",
       "3             11038         12832       13        18298.5     3   \n",
       "4             10777         12866       12        18298.5     4   \n",
       "...             ...           ...      ...            ...   ...   \n",
       "49828          9408          9990       58        13773.0     4   \n",
       "49829          9473          9972       57        13773.0     5   \n",
       "49830          9740         10171       56        13773.0     6   \n",
       "49831         10039         10539       56        13773.0     7   \n",
       "49832         10761         11222       56        14246.0     8   \n",
       "\n",
       "       prev24HrAveLoad  IsWorkingDay  Weekday  DewPoint  12_hours_temp_mean  \n",
       "0          17191.29167             1        4         3            4.083333  \n",
       "1          17223.41667             1        5         0            3.916667  \n",
       "2          17255.37500             1        5         1            3.833333  \n",
       "3          17287.08333             1        5         0            3.416667  \n",
       "4          17318.16667             1        5        -1            3.000000  \n",
       "...                ...           ...      ...       ...                 ...  \n",
       "49828      13135.45833             1        2        53           56.000000  \n",
       "49829      13147.91667             1        2        53           55.666667  \n",
       "49830      13192.70833             1        2        52           55.166667  \n",
       "49831      13297.83333             1        2        52           54.583333  \n",
       "49832      13429.25000             1        2        52           54.083333  \n",
       "\n",
       "[49833 rows x 10 columns]"
      ]
     },
     "execution_count": 30,
     "metadata": {},
     "output_type": "execute_result"
    }
   ],
   "source": [
    "dataset_reduced = dataset_new[['P_W_S_hour_l', 'P_D_S_hour_l', 'DryBulb', 'daily_meadian', 'Hour', 'prev24HrAveLoad', 'IsWorkingDay', 'Weekday', 'DewPoint', '12_hours_temp_mean']]\n",
    "dataset_reduced"
   ]
  },
  {
   "cell_type": "markdown",
   "metadata": {},
   "source": [
    "# Selected Feature based model"
   ]
  },
  {
   "cell_type": "code",
   "execution_count": 31,
   "metadata": {},
   "outputs": [
    {
     "name": "stdout",
     "output_type": "stream",
     "text": [
      "Shape of the Input data: (49833, 10)\n",
      "Shape of the target variable: (49833,)\n",
      "Data type of the input features: float64\n"
     ]
    }
   ],
   "source": [
    "# Preparing the model for trainng\n",
    "\n",
    "\n",
    "\n",
    "reduced_features = np.array(dataset_reduced)         # Selected Features\n",
    "target_values = np.array(dataset_new['target_variable'])                       # Output\n",
    "\n",
    "\n",
    "print('Shape of the Input data:', reduced_features.shape)\n",
    "print('Shape of the target variable:', target_values.shape)\n",
    "\n",
    "\n",
    "print('Data type of the input features:', reduced_features.dtype)"
   ]
  },
  {
   "cell_type": "code",
   "execution_count": 32,
   "metadata": {},
   "outputs": [
    {
     "name": "stdout",
     "output_type": "stream",
     "text": [
      "Model Performance\n",
      "-----------------------------------------------------------\n",
      "Decision Tree convergence time in seconds: 0.3966331481933594\n",
      "-----------------------------------------------------------\n",
      "MSE: 431393.73906354513\n",
      "MAPE: 3.0585081949702606\n"
     ]
    }
   ],
   "source": [
    "# Data splitting in test train split\n",
    "\n",
    "x_train_reduced, x_test_reduced, y_train_reduced, y_test_reduced = train_test_split(reduced_features,target_values, test_size=0.3, \n",
    "                                                        random_state=42, shuffle=False)\n",
    "\n",
    "DT_m = DecisionTreeRegressor()    # Change parameter, write the parameter name and values in the function called\n",
    "\n",
    "# Model training\n",
    "\n",
    "start = time.time()\n",
    "DT_m.fit(x_train_reduced, y_train_reduced)\n",
    "stop = time.time()\n",
    "\n",
    "dt_time_r = stop-start\n",
    "\n",
    "# model prediction\n",
    "\n",
    "y_pred_dt_r = DT_m.predict(x_test_reduced)\n",
    "\n",
    "# model evaluation\n",
    "\n",
    "print('Model Performance')\n",
    "\n",
    "print('-----------------------------------------------------------')\n",
    "\n",
    "print('Decision Tree convergence time in seconds:', dt_time_r)\n",
    "\n",
    "print('-----------------------------------------------------------')\n",
    "\n",
    "print('MSE:', mean_squared_error(y_test_reduced, y_pred_dt_r))\n",
    "print('MAPE:', mean_absolute_percentage_error(y_test_reduced, y_pred_dt_r)*100)"
   ]
  },
  {
   "cell_type": "markdown",
   "metadata": {},
   "source": [
    "# Random Forest with selected features"
   ]
  },
  {
   "cell_type": "code",
   "execution_count": 33,
   "metadata": {},
   "outputs": [
    {
     "name": "stdout",
     "output_type": "stream",
     "text": [
      "Model Performance\n",
      "-----------------------------------------------------------\n",
      "Random Forest Convergence time in seconds: 5.007343530654907\n",
      "-----------------------------------------------------------\n",
      "MSE: 166237.0935008653\n",
      "MAPE: 1.9976523752207271\n"
     ]
    }
   ],
   "source": [
    "# Creating the test train split using sklearn library\n",
    "\n",
    "# split is kept 70 - 30\n",
    "\n",
    "# the data is not shaffled\n",
    "\n",
    "x_train_reduced, x_test_reduced, y_train_reduced, y_test_reduced = train_test_split(reduced_features,target_values, test_size=0.3, \n",
    "                                                        random_state=42, shuffle=False)\n",
    "\n",
    "\n",
    "\n",
    "\n",
    "# create the model\n",
    "\n",
    "rf_m = RandomForestRegressor(n_estimators=200, max_depth=30, n_jobs=-1, random_state=42)\n",
    "\n",
    "# train the model\n",
    "\n",
    "start = time.time()\n",
    "\n",
    "rf_m.fit(x_train_reduced, y_train_reduced)\n",
    "\n",
    "stop = time.time()\n",
    "\n",
    "rf_time_m = stop-start\n",
    "# model predction\n",
    "\n",
    "y_pred_rf_r = rf_m.predict(x_test_reduced)\n",
    "\n",
    "\n",
    "\n",
    "# model evaluation\n",
    "\n",
    "print('Model Performance')\n",
    "\n",
    "print('-----------------------------------------------------------')\n",
    "\n",
    "print('Random Forest Convergence time in seconds:', rf_time_m)\n",
    "\n",
    "print('-----------------------------------------------------------')\n",
    "\n",
    "print('MSE:', mean_squared_error(y_test_reduced, y_pred_rf_r))\n",
    "print('MAPE:', mean_absolute_percentage_error(y_test_reduced, y_pred_rf_r)*100)\n"
   ]
  },
  {
   "cell_type": "markdown",
   "metadata": {},
   "source": [
    "With feature Selection, the convergence time is significantly reduced with improved model performace. To further improve the result following method can be adopted:\n",
    "\n",
    "- Perform hyperparameter tuning to obtain the optimal parameters for model training\n",
    "- Use feature elemination mechanism to select the best subset of features\n",
    "- Use neural netowrk or other deep learning techniques \n",
    "\n",
    "\n",
    "These is always a tradeoff between model performance, complexity, and convergence time which varies with applications."
   ]
  },
  {
   "cell_type": "markdown",
   "metadata": {},
   "source": [
    "# Recursive Feature Elimination (RFE) for Feature Selection in Python\n",
    "\n",
    "- model used is RF\n",
    "- For Details please follow the link: https://machinelearningmastery.com/rfe-feature-selection-in-python/"
   ]
  },
  {
   "cell_type": "code",
   "execution_count": 260,
   "metadata": {},
   "outputs": [
    {
     "name": "stderr",
     "output_type": "stream",
     "text": [
      "c:\\Users\\ahsan\\Anaconda3\\lib\\site-packages\\sklearn\\model_selection\\_split.py:676: UserWarning: The least populated class in y has only 1 members, which is less than n_splits=2.\n",
      "  warnings.warn(\n",
      "c:\\Users\\ahsan\\Anaconda3\\lib\\site-packages\\sklearn\\model_selection\\_split.py:676: UserWarning: The least populated class in y has only 1 members, which is less than n_splits=2.\n",
      "  warnings.warn(\n",
      "c:\\Users\\ahsan\\Anaconda3\\lib\\site-packages\\sklearn\\model_selection\\_split.py:676: UserWarning: The least populated class in y has only 1 members, which is less than n_splits=2.\n",
      "  warnings.warn(\n",
      "c:\\Users\\ahsan\\Anaconda3\\lib\\site-packages\\sklearn\\model_selection\\_split.py:676: UserWarning: The least populated class in y has only 1 members, which is less than n_splits=2.\n",
      "  warnings.warn(\n",
      "c:\\Users\\ahsan\\Anaconda3\\lib\\site-packages\\sklearn\\model_selection\\_split.py:676: UserWarning: The least populated class in y has only 1 members, which is less than n_splits=2.\n",
      "  warnings.warn(\n",
      "c:\\Users\\ahsan\\Anaconda3\\lib\\site-packages\\sklearn\\model_selection\\_split.py:676: UserWarning: The least populated class in y has only 1 members, which is less than n_splits=2.\n",
      "  warnings.warn(\n",
      "c:\\Users\\ahsan\\Anaconda3\\lib\\site-packages\\sklearn\\model_selection\\_split.py:676: UserWarning: The least populated class in y has only 1 members, which is less than n_splits=2.\n",
      "  warnings.warn(\n",
      "c:\\Users\\ahsan\\Anaconda3\\lib\\site-packages\\sklearn\\model_selection\\_split.py:676: UserWarning: The least populated class in y has only 1 members, which is less than n_splits=2.\n",
      "  warnings.warn(\n",
      "c:\\Users\\ahsan\\Anaconda3\\lib\\site-packages\\sklearn\\model_selection\\_split.py:676: UserWarning: The least populated class in y has only 1 members, which is less than n_splits=2.\n",
      "  warnings.warn(\n",
      "c:\\Users\\ahsan\\Anaconda3\\lib\\site-packages\\sklearn\\model_selection\\_split.py:676: UserWarning: The least populated class in y has only 1 members, which is less than n_splits=2.\n",
      "  warnings.warn(\n",
      "c:\\Users\\ahsan\\Anaconda3\\lib\\site-packages\\sklearn\\model_selection\\_split.py:676: UserWarning: The least populated class in y has only 1 members, which is less than n_splits=2.\n",
      "  warnings.warn(\n",
      "c:\\Users\\ahsan\\Anaconda3\\lib\\site-packages\\sklearn\\model_selection\\_split.py:676: UserWarning: The least populated class in y has only 1 members, which is less than n_splits=2.\n",
      "  warnings.warn(\n",
      "c:\\Users\\ahsan\\Anaconda3\\lib\\site-packages\\sklearn\\model_selection\\_split.py:676: UserWarning: The least populated class in y has only 1 members, which is less than n_splits=2.\n",
      "  warnings.warn(\n",
      "c:\\Users\\ahsan\\Anaconda3\\lib\\site-packages\\sklearn\\model_selection\\_split.py:676: UserWarning: The least populated class in y has only 1 members, which is less than n_splits=2.\n",
      "  warnings.warn(\n",
      "c:\\Users\\ahsan\\Anaconda3\\lib\\site-packages\\sklearn\\model_selection\\_split.py:676: UserWarning: The least populated class in y has only 1 members, which is less than n_splits=2.\n",
      "  warnings.warn(\n",
      "c:\\Users\\ahsan\\Anaconda3\\lib\\site-packages\\sklearn\\model_selection\\_split.py:676: UserWarning: The least populated class in y has only 1 members, which is less than n_splits=2.\n",
      "  warnings.warn(\n",
      "c:\\Users\\ahsan\\Anaconda3\\lib\\site-packages\\sklearn\\model_selection\\_split.py:676: UserWarning: The least populated class in y has only 1 members, which is less than n_splits=2.\n",
      "  warnings.warn(\n",
      "c:\\Users\\ahsan\\Anaconda3\\lib\\site-packages\\sklearn\\model_selection\\_split.py:676: UserWarning: The least populated class in y has only 1 members, which is less than n_splits=2.\n",
      "  warnings.warn(\n",
      "c:\\Users\\ahsan\\Anaconda3\\lib\\site-packages\\sklearn\\model_selection\\_split.py:676: UserWarning: The least populated class in y has only 1 members, which is less than n_splits=2.\n",
      "  warnings.warn(\n",
      "c:\\Users\\ahsan\\Anaconda3\\lib\\site-packages\\sklearn\\model_selection\\_split.py:676: UserWarning: The least populated class in y has only 1 members, which is less than n_splits=2.\n",
      "  warnings.warn(\n",
      "c:\\Users\\ahsan\\Anaconda3\\lib\\site-packages\\sklearn\\model_selection\\_split.py:676: UserWarning: The least populated class in y has only 1 members, which is less than n_splits=2.\n",
      "  warnings.warn(\n",
      "c:\\Users\\ahsan\\Anaconda3\\lib\\site-packages\\sklearn\\model_selection\\_split.py:676: UserWarning: The least populated class in y has only 1 members, which is less than n_splits=2.\n",
      "  warnings.warn(\n",
      "c:\\Users\\ahsan\\Anaconda3\\lib\\site-packages\\sklearn\\model_selection\\_split.py:676: UserWarning: The least populated class in y has only 1 members, which is less than n_splits=2.\n",
      "  warnings.warn(\n",
      "c:\\Users\\ahsan\\Anaconda3\\lib\\site-packages\\sklearn\\model_selection\\_split.py:676: UserWarning: The least populated class in y has only 1 members, which is less than n_splits=2.\n",
      "  warnings.warn(\n",
      "c:\\Users\\ahsan\\Anaconda3\\lib\\site-packages\\sklearn\\model_selection\\_split.py:676: UserWarning: The least populated class in y has only 1 members, which is less than n_splits=2.\n",
      "  warnings.warn(\n",
      "c:\\Users\\ahsan\\Anaconda3\\lib\\site-packages\\sklearn\\model_selection\\_split.py:676: UserWarning: The least populated class in y has only 1 members, which is less than n_splits=2.\n",
      "  warnings.warn(\n",
      "c:\\Users\\ahsan\\Anaconda3\\lib\\site-packages\\sklearn\\model_selection\\_split.py:676: UserWarning: The least populated class in y has only 1 members, which is less than n_splits=2.\n",
      "  warnings.warn(\n"
     ]
    },
    {
     "data": {
      "image/png": "[encoded data removed]",
      "text/plain": [
       "<Figure size 576x396 with 1 Axes>"
      ]
     },
     "metadata": {},
     "output_type": "display_data"
    },
    {
     "data": {
      "text/plain": [
       "<AxesSubplot:title={'center':'RFECV for RandomForestRegressor'}, xlabel='Number of Features Selected', ylabel='Score'>"
      ]
     },
     "execution_count": 260,
     "metadata": {},
     "output_type": "execute_result"
    }
   ],
   "source": [
    "# A short flaver to show the automated feature elimination mechanism.\n",
    "\n",
    "from sklearn.model_selection import StratifiedKFold\n",
    "from yellowbrick.model_selection import RFECV\n",
    "\n",
    "\n",
    "\n",
    "cv = StratifiedKFold(2)   # Here the cross-validation mechanism is used and data argument value is the number of folds\n",
    "\n",
    "vis = RFECV(rf_1, cv= cv)\n",
    "\n",
    "vis.fit(input_features, target_values)\n",
    "\n",
    "vis.show()\n"
   ]
  },
  {
   "cell_type": "code",
   "execution_count": null,
   "metadata": {},
   "outputs": [],
   "source": []
  },
  {
   "cell_type": "code",
   "execution_count": 37,
   "metadata": {},
   "outputs": [
    {
     "data": {
      "text/html": [
       "<details>\n",
       "<summary>Click to view session information</summary>\n",
       "<pre>\n",
       "-----\n",
       "matplotlib          3.4.3\n",
       "numpy               1.21.2\n",
       "pandas              1.4.1\n",
       "scikitplot          0.3.7\n",
       "session_info        1.0.0\n",
       "sklearn             1.0.2\n",
       "-----\n",
       "</pre>\n",
       "<details>\n",
       "<summary>Click to view modules imported as dependencies</summary>\n",
       "<pre>\n",
       "PIL                         8.4.0\n",
       "anyio                       NA\n",
       "attr                        21.2.0\n",
       "babel                       2.9.1\n",
       "backcall                    0.2.0\n",
       "beta_ufunc                  NA\n",
       "binom_ufunc                 NA\n",
       "bottleneck                  1.3.2\n",
       "brotli                      NA\n",
       "certifi                     2022.06.15\n",
       "cffi                        1.14.6\n",
       "chardet                     4.0.0\n",
       "charset_normalizer          2.0.4\n",
       "cloudpickle                 2.0.0\n",
       "colorama                    0.4.4\n",
       "cycler                      0.10.0\n",
       "cython_runtime              NA\n",
       "dateutil                    2.8.2\n",
       "debugpy                     1.4.1\n",
       "decorator                   5.1.0\n",
       "defusedxml                  0.7.1\n",
       "entrypoints                 0.3\n",
       "fastjsonschema              NA\n",
       "google                      NA\n",
       "idna                        3.2\n",
       "importlib_metadata          NA\n",
       "ipykernel                   6.4.1\n",
       "ipython_genutils            0.2.0\n",
       "jedi                        0.18.0\n",
       "jinja2                      2.11.3\n",
       "joblib                      1.1.0\n",
       "json5                       NA\n",
       "jsonschema                  3.2.0\n",
       "jupyter_server              1.4.1\n",
       "jupyterlab_server           2.8.2\n",
       "kiwisolver                  1.3.1\n",
       "markupsafe                  1.1.1\n",
       "matplotlib_inline           NA\n",
       "mkl                         2.4.0\n",
       "mpl_toolkits                NA\n",
       "nbclassic                   NA\n",
       "nbformat                    5.1.3\n",
       "nbinom_ufunc                NA\n",
       "nt                          NA\n",
       "ntsecuritycon               NA\n",
       "numexpr                     2.7.3\n",
       "packaging                   21.0\n",
       "parso                       0.8.2\n",
       "pickleshare                 0.7.5\n",
       "pkg_resources               NA\n",
       "prometheus_client           NA\n",
       "prompt_toolkit              3.0.20\n",
       "psutil                      5.8.0\n",
       "pvectorc                    NA\n",
       "pyarrow                     6.0.1\n",
       "pydev_ipython               NA\n",
       "pydevconsole                NA\n",
       "pydevd                      2.4.1\n",
       "pydevd_concurrency_analyser NA\n",
       "pydevd_file_utils           NA\n",
       "pydevd_plugins              NA\n",
       "pydevd_tracing              NA\n",
       "pyexpat                     NA\n",
       "pygments                    2.10.0\n",
       "pyparsing                   3.0.4\n",
       "pyrsistent                  NA\n",
       "pythoncom                   NA\n",
       "pytz                        2021.3\n",
       "pywintypes                  NA\n",
       "requests                    2.26.0\n",
       "scipy                       1.7.3\n",
       "send2trash                  NA\n",
       "setuptools                  61.2.0\n",
       "six                         1.16.0\n",
       "sniffio                     1.2.0\n",
       "socks                       1.7.1\n",
       "sphinxcontrib               NA\n",
       "storemagic                  NA\n",
       "threadpoolctl               2.2.0\n",
       "tornado                     6.1\n",
       "traitlets                   5.1.0\n",
       "typing_extensions           NA\n",
       "urllib3                     1.26.7\n",
       "wcwidth                     0.2.5\n",
       "win32api                    NA\n",
       "win32com                    NA\n",
       "win32con                    NA\n",
       "win32security               NA\n",
       "win32trace                  NA\n",
       "winerror                    NA\n",
       "zipp                        NA\n",
       "zmq                         22.2.1\n",
       "zope                        NA\n",
       "</pre>\n",
       "</details> <!-- seems like this ends pre, so might as well be explicit -->\n",
       "<pre>\n",
       "-----\n",
       "IPython             7.29.0\n",
       "jupyter_client      6.1.12\n",
       "jupyter_core        4.8.1\n",
       "jupyterlab          3.2.1\n",
       "notebook            6.4.5\n",
       "-----\n",
       "Python 3.9.7 (default, Sep 16 2021, 16:59:28) [MSC v.1916 64 bit (AMD64)]\n",
       "Windows-10-10.0.19044-SP0\n",
       "-----\n",
       "Session information updated at 2022-08-26 17:00\n",
       "</pre>\n",
       "</details>"
      ],
      "text/plain": [
       "<IPython.core.display.HTML object>"
      ]
     },
     "execution_count": 37,
     "metadata": {},
     "output_type": "execute_result"
    }
   ],
   "source": [
    "import session_info\n",
    "session_info.show()"
   ]
  },
  {
   "cell_type": "code",
   "execution_count": 266,
   "metadata": {},
   "outputs": [
    {
     "name": "stdout",
     "output_type": "stream",
     "text": [
      "The watermark extension is already loaded. To reload it, use:\n",
      "  %reload_ext watermark\n",
      "Python implementation: CPython\n",
      "Python version       : 3.9.7\n",
      "IPython version      : 7.29.0\n",
      "\n",
      "wget      : 3.2\n",
      "pandas    : 1.1.5\n",
      "numpy     : 1.21.2\n",
      "watermark : 2.3.1\n",
      "sklearn   : 1.0.2\n",
      "matplotlib: 3.3.4\n",
      "keras     : 2.9.0\n",
      "\n",
      "Compiler    : MSC v.1916 64 bit (AMD64)\n",
      "OS          : Windows\n",
      "Release     : 10\n",
      "Machine     : AMD64\n",
      "Processor   : Intel64 Family 6 Model 165 Stepping 2, GenuineIntel\n",
      "CPU cores   : 16\n",
      "Architecture: 64bit\n",
      "\n",
      " \n",
      "Last updated: Fri Aug 26 2022 16:46:10GMT Summer Time\n",
      "\n"
     ]
    }
   ],
   "source": [
    "%load_ext watermark\n",
    "\n",
    "# python, ipython, packages, and machine characteristics\n",
    "%watermark -v -m -p wget,pandas,numpy,watermark,sklearn,matplotlib,keras\n",
    "\n",
    "# date\n",
    "print (\" \")\n",
    "%watermark -u -n -t -z "
   ]
  },
  {
   "cell_type": "code",
   "execution_count": null,
   "metadata": {},
   "outputs": [],
   "source": []
  }
 ],
 "metadata": {
  "kernelspec": {
   "display_name": "Python 3.9.7 ('base')",
   "language": "python",
   "name": "python3"
  },
  "language_info": {
   "codemirror_mode": {
    "name": "ipython",
    "version": 3
   },
   "file_extension": ".py",
   "mimetype": "text/x-python",
   "name": "python",
   "nbconvert_exporter": "python",
   "pygments_lexer": "ipython3",
   "version": "3.9.7"
  },
  "vscode": {
   "interpreter": {
    "hash": "79fe433a8f88862a0a17970d6b2d3889ffdc46c96c7e93a37f3e8b4e3c05eef0"
   }
  }
 },
 "nbformat": 4,
 "nbformat_minor": 2
}
