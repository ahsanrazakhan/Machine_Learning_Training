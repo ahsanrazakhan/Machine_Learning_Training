{
 "cells": [
  {
   "cell_type": "markdown",
   "metadata": {},
   "source": [
    "# Short term Load Forcasting (Regression Machine Learning)"
   ]
  },
  {
   "cell_type": "markdown",
   "metadata": {},
   "source": [
    "You have been provided with **Load Forecasting** data set as a single file, `dataset.csv`. We obtained it at http://www.mathworks.com/videos/electricity-load-and-price-forecasting-with-matlab-81765.html. For some background information you can also watch the video tutorial given in the link above:\n",
    "\n",
    "Before you start on this notebook, copy the datasetset `dataset.csv` in the same directory."
   ]
  },
  {
   "cell_type": "markdown",
   "metadata": {},
   "source": [
    "### 1. Set up notebook and load dataset"
   ]
  },
  {
   "cell_type": "code",
   "execution_count": 3,
   "metadata": {},
   "outputs": [],
   "source": [
    "%matplotlib inline\n",
    "import numpy as np\n",
    "import pandas as pd\n",
    "from sklearn import linear_model  # linear regression library\n",
    "from sklearn.linear_model import LinearRegression\n",
    "from sklearn.metrics import mean_squared_error\n",
    "from sklearn.metrics import mean_absolute_percentage_error\n",
    "from sklearn import metrics\n",
    "from sklearn.model_selection import train_test_split\n",
    "import matplotlib.pyplot as plt"
   ]
  },
  {
   "cell_type": "markdown",
   "metadata": {},
   "source": [
    "This next snippet of code loads the load forecasting dataset. There are 50000 data points, each with 8 predictor variables that are input `x` and one response variable (which we'll denote `y`).\n",
    "\n",
    "Make sure the file `'dataset.csv'` is in the same directory as this notebook."
   ]
  },
  {
   "cell_type": "code",
   "execution_count": 4,
   "metadata": {
    "collapsed": true
   },
   "outputs": [
    {
     "data": {
      "text/html": [
       "<div>\n",
       "<style scoped>\n",
       "    .dataframe tbody tr th:only-of-type {\n",
       "        vertical-align: middle;\n",
       "    }\n",
       "\n",
       "    .dataframe tbody tr th {\n",
       "        vertical-align: top;\n",
       "    }\n",
       "\n",
       "    .dataframe thead th {\n",
       "        text-align: right;\n",
       "    }\n",
       "</style>\n",
       "<table border=\"1\" class=\"dataframe\">\n",
       "  <thead>\n",
       "    <tr style=\"text-align: right;\">\n",
       "      <th></th>\n",
       "      <th>DryBulb</th>\n",
       "      <th>DewPoint</th>\n",
       "      <th>Hour</th>\n",
       "      <th>Weekday</th>\n",
       "      <th>IsWorkingDay</th>\n",
       "      <th>P_W_S_hour_l</th>\n",
       "      <th>P_D_S_hour_l</th>\n",
       "      <th>prev24HrAveLoad</th>\n",
       "      <th>target_variable</th>\n",
       "    </tr>\n",
       "  </thead>\n",
       "  <tbody>\n",
       "    <tr>\n",
       "      <th>0</th>\n",
       "      <td>37</td>\n",
       "      <td>25</td>\n",
       "      <td>1</td>\n",
       "      <td>5</td>\n",
       "      <td>0</td>\n",
       "      <td>12230</td>\n",
       "      <td>12230</td>\n",
       "      <td>509.583333</td>\n",
       "      <td>12230</td>\n",
       "    </tr>\n",
       "    <tr>\n",
       "      <th>1</th>\n",
       "      <td>37</td>\n",
       "      <td>25</td>\n",
       "      <td>2</td>\n",
       "      <td>5</td>\n",
       "      <td>0</td>\n",
       "      <td>11534</td>\n",
       "      <td>11534</td>\n",
       "      <td>990.166667</td>\n",
       "      <td>11534</td>\n",
       "    </tr>\n",
       "    <tr>\n",
       "      <th>2</th>\n",
       "      <td>39</td>\n",
       "      <td>24</td>\n",
       "      <td>3</td>\n",
       "      <td>5</td>\n",
       "      <td>0</td>\n",
       "      <td>11038</td>\n",
       "      <td>11038</td>\n",
       "      <td>1450.083333</td>\n",
       "      <td>11038</td>\n",
       "    </tr>\n",
       "    <tr>\n",
       "      <th>3</th>\n",
       "      <td>38</td>\n",
       "      <td>22</td>\n",
       "      <td>4</td>\n",
       "      <td>5</td>\n",
       "      <td>0</td>\n",
       "      <td>10777</td>\n",
       "      <td>10777</td>\n",
       "      <td>1899.125000</td>\n",
       "      <td>10777</td>\n",
       "    </tr>\n",
       "    <tr>\n",
       "      <th>4</th>\n",
       "      <td>37</td>\n",
       "      <td>20</td>\n",
       "      <td>5</td>\n",
       "      <td>5</td>\n",
       "      <td>0</td>\n",
       "      <td>10764</td>\n",
       "      <td>10764</td>\n",
       "      <td>2347.625000</td>\n",
       "      <td>10764</td>\n",
       "    </tr>\n",
       "  </tbody>\n",
       "</table>\n",
       "</div>"
      ],
      "text/plain": [
       "   DryBulb  DewPoint  Hour  Weekday  IsWorkingDay  P_W_S_hour_l  P_D_S_hour_l  \\\n",
       "0       37        25     1        5             0         12230         12230   \n",
       "1       37        25     2        5             0         11534         11534   \n",
       "2       39        24     3        5             0         11038         11038   \n",
       "3       38        22     4        5             0         10777         10777   \n",
       "4       37        20     5        5             0         10764         10764   \n",
       "\n",
       "   prev24HrAveLoad  target_variable  \n",
       "0       509.583333            12230  \n",
       "1       990.166667            11534  \n",
       "2      1450.083333            11038  \n",
       "3      1899.125000            10777  \n",
       "4      2347.625000            10764  "
      ]
     },
     "execution_count": 4,
     "metadata": {},
     "output_type": "execute_result"
    }
   ],
   "source": [
    "dataset = pd.read_csv('dataset.csv') # Reads the dataset in pandas dataframe\n",
    "\n",
    "features = ['DryBulb', 'DewPoint', 'Hour', 'Weekday', \n",
    "            'IsWorkingDay', 'P_W_S_hour_l', 'P_D_S_hour_l', 'prev24HrAveLoad']\n",
    "dataset.head() # This command tell the first 5 entries of the dataset"
   ]
  },
  {
   "cell_type": "markdown",
   "metadata": {},
   "source": [
    "The dataset contains 8 input variable which contains the contextual information and historical load and temperature data. The variable includes:\n",
    "- DryBulb temperature\n",
    "- DewPoints\n",
    "- Hours (data is collected in hourly samples so each day has 24 values)\n",
    "- Weekday number [1 for Monday and 7 Sunday]\n",
    "- Holyday flag [IsWorkingDay 0 for working 1 for holiday]\n",
    "- prvious week same hour load (P_W_S_hour_l) 168 lagging entry i.e. 168 hours per week\n",
    "- prevuous day same hour load (P_D_S_hour_l) 24 lagging entry\n",
    "- prev24HrAveLoad (Average load for the perticular day)\n",
    "\n",
    "Target variable is actual load at that perticular hour that is need to be predicted"
   ]
  },
  {
   "cell_type": "code",
   "execution_count": 5,
   "metadata": {},
   "outputs": [],
   "source": [
    "x = np.array(dataset.drop('target_variable', axis=1))  # predictors\n",
    "y = np.array(dataset['target_variable'])               # response variable"
   ]
  },
  {
   "cell_type": "markdown",
   "metadata": {},
   "source": [
    "## Q1. Predict `y` without using `x`. Please calculate prediction and MSE using y alone?"
   ]
  },
  {
   "cell_type": "markdown",
   "metadata": {},
   "source": [
    "If we want to predict `y` without knowledge of `x`, what value would be predict? The <font color=\"magenta\">mean</font> value of `y`.\n",
    "\n",
    "In this case, the mean squared error (MSE) associated with the prediction is simply the variance of `y`. Please, not the For every real value $y_i$ we have predicted one $y^i$. The the absoulut value of the difference is the error for data point $i$. This is denoted by $e_i$ and given by formula\n",
    "\n",
    "$e_i$=|$y_i$−$\\hat{y_i}$|. We can take an average of these pointwise errors:\n",
    "\n",
    "$\\frac{1}{N}\\sum_i^N \\left| y - \\hat{y}_i\\right|.$\n",
    "\n",
    "This error is called *Mean Absolute Error*.\n",
    "\n",
    "However, for various reasons in many situations we prefer to square the distance before taking the sum. This is called Mean Squared Error and we denote it by MSE. So, \n",
    "\n",
    "$MSE(\\hat{Y}) = \\frac{1}{N}\\sum_i^N \\left(y_i - \\hat{y}_i\\right)^2$\n",
    "\n",
    "$MAPE = \\frac{1}{N}\\sum_i^N \\lvert\\frac{y_i - \\hat{y}_i}{y_i}\\rvert$"
   ]
  },
  {
   "cell_type": "markdown",
   "metadata": {},
   "source": [
    "## Q2. Predict `y` using a single feature of `x`"
   ]
  },
  {
   "cell_type": "markdown",
   "metadata": {},
   "source": [
    "Here we define a function, **one_feature_regression**, that takes `x` and `y`, along with the index `f` of a single feature and fits a linear regressor to `(x[f],y)`. It then plots the data along with the resulting line."
   ]
  },
  {
   "cell_type": "code",
   "execution_count": 6,
   "metadata": {},
   "outputs": [],
   "source": [
    "def one_feature_regression(x,y,f):\n",
    "    if (f < 0) or (f > 7):\n",
    "        print(\"Feature index is out of bounds\")\n",
    "        return\n",
    "    regr = linear_model.LinearRegression()\n",
    "    x1 = x[:,[f]]\n",
    "    regr.fit(x1, y)\n",
    "    # Make predictions using the model\n",
    "    y_pred = regr.predict(x1)\n",
    "    # Plot data points as well as predictions\n",
    "    plt.plot(x1, y, 'bo')\n",
    "    plt.plot(x1, y_pred, 'r-', linewidth=3)\n",
    "    plt.xlabel(features[f], fontsize=14)\n",
    "    plt.ylabel('Load Progression', fontsize=14)\n",
    "    plt.show()\n",
    "    print(\"Mean squared error: \", mean_squared_error(y, y_pred))\n",
    "    print('Mean Absolute Percentage Errror', mean_absolute_percentage_error(y, y_pred)*100)\n",
    "    return regr"
   ]
  },
  {
   "cell_type": "markdown",
   "metadata": {},
   "source": [
    "### (a) You have been given one_feature_regression function. Please use th function to develop a regression model using feature #7 (P_D_S_hour_l), and find out MSE, w, and b? (b) Please, identify <font color=\"magenta\"> second best feature </font> with the lowest MSE?"
   ]
  },
  {
   "cell_type": "code",
   "execution_count": null,
   "metadata": {},
   "outputs": [],
   "source": []
  },
  {
   "cell_type": "markdown",
   "metadata": {},
   "source": [
    "## Q3. Predict `y` using a specified subset of features from `x`"
   ]
  },
  {
   "cell_type": "markdown",
   "metadata": {},
   "source": [
    "The function **feature_subset_regression** is just like **one_feature_regression**, but this time uses a list of features `flist`."
   ]
  },
  {
   "cell_type": "code",
   "execution_count": 7,
   "metadata": {},
   "outputs": [],
   "source": [
    "def feature_subset_regression(x,y,flist):\n",
    "    if len(flist) < 1:\n",
    "        print(\"Need at least one feature\")\n",
    "        return\n",
    "    for f in flist:\n",
    "        if (f < 0) or (f > 7):\n",
    "            print(\"Feature index is out of bounds\")\n",
    "            return\n",
    "    regr = linear_model.LinearRegression()\n",
    "    x1 = x[:,flist]\n",
    "    regr.fit(x1, y)\n",
    "    # Make predictions using the model\n",
    "    y_pred = regr.predict(x1)\n",
    "\n",
    "    print(\"Mean squared error: \", mean_squared_error(y, y_pred))\n",
    "    print('Mean Absolute Percentage Errror', mean_absolute_percentage_error(y, y_pred)*100)\n",
    "    return regr"
   ]
  },
  {
   "cell_type": "markdown",
   "metadata": {},
   "source": [
    "### (a) Using the *feature_subset_regression*, calculate MSE, w and b usng features #7 (P_D_S_hour_l) and #8 (prev24HrAveLoad). (b) Calculate MSE and MAPE using all 8 features?"
   ]
  },
  {
   "cell_type": "code",
   "execution_count": null,
   "metadata": {},
   "outputs": [],
   "source": []
  },
  {
   "cell_type": "markdown",
   "metadata": {},
   "source": [
    "# Finally, use all 8 features."
   ]
  },
  {
   "cell_type": "code",
   "execution_count": null,
   "metadata": {},
   "outputs": [],
   "source": []
  },
  {
   "cell_type": "code",
   "execution_count": null,
   "metadata": {},
   "outputs": [],
   "source": []
  },
  {
   "cell_type": "markdown",
   "metadata": {},
   "source": [
    "Let's denote mean of the output as $\\mu_Y$. That is $\\mu_y = \\frac{1}{N}\\sum y_i.$ Note then that for this prediction $\\tilde{Y} (\\tilde{y_i} = \\mu_Y)$ Mean Square Error is equal to: \n",
    "\n",
    "$MSE(\\tilde{Y})=\\frac{1}{N}\\sum ( y_i - \\mu_Y)^2.$\n",
    "\n",
    "In order to compare $MSE(\\hat{Y})$ and variance of output, which we denote it as $D^2Y$. We take their difference and divide by the variance $D^2Y$. This is called $R^2$ score. This is then\n",
    "\n",
    "$R^2 = \\frac{D^2Y - MSE(\\hat{Y})}{D^2Y} = 1- \\frac{MSE(\\hat{Y})}{D^2Y}$\n",
    "\n",
    "Note that if $\\hat{y}$ is nothing better than $\\mu_Y$ then $R^2 = 0$. On the other side, if $MSE(\\hat{Y}) = 0$, $R^2 =1$ meaning prefect prediction. Calculate $R^2$ for the above Q3 (a) and (b)? (hint: import r2_score function from the sklearn.metric)\n"
   ]
  },
  {
   "cell_type": "code",
   "execution_count": null,
   "metadata": {},
   "outputs": [],
   "source": []
  },
  {
   "cell_type": "markdown",
   "metadata": {},
   "source": [
    "## Q4. Splitting the data into a training and test set"
   ]
  },
  {
   "cell_type": "markdown",
   "metadata": {},
   "source": [
    "In the experiments above, every model was fit to the *entire* data set and its mean squared error was evaluated on this same data set. This methodology would not, in general, yield accurate estimates of future error. In this specific case, however, the discrepancy might not be too bad because the data set is quite large relative to the number of features."
   ]
  },
  {
   "cell_type": "markdown",
   "metadata": {},
   "source": [
    "To investigate this further, we define a procedure **split_data** that partitions the data set into separate training and test sets. It is invoked as follows:\n",
    "\n",
    "* `trainx, trainy, testx, testy = split_data(n_train)`\n",
    "\n",
    "Here:\n",
    "* `n_train` is the desired number of training points\n",
    "* `trainx` and `trainy` are the training points and response values\n",
    "* `testx` and `testy` are the test points and response values\n",
    "\n",
    "The split is done randomly, but the random seed is fixed, and thus the same split is produced if the procedure is called repeatedly with the same `n_train` parameter."
   ]
  },
  {
   "cell_type": "code",
   "execution_count": 8,
   "metadata": {},
   "outputs": [],
   "source": [
    "def split_data(n_train):\n",
    "    if (n_train < 0) or (n_train > 49999):\n",
    "        print(\"Invalid number of training points\")\n",
    "        return\n",
    "    np.random.seed(0)\n",
    "    perm = np.random.permutation(49999)\n",
    "    training_indices = perm[range(0,n_train)]\n",
    "    test_indices = perm[range(n_train,49999)]\n",
    "    trainx = x[training_indices,:]\n",
    "    trainy = y[training_indices]\n",
    "    testx = x[test_indices,:]\n",
    "    testy = y[test_indices]\n",
    "    return trainx, trainy, testx, testy"
   ]
  },
  {
   "cell_type": "markdown",
   "metadata": {},
   "source": [
    "**<font color=\"magenta\">For you to do:</font>** Using the **split_data** procedure to partition the data set, compute the training MSE and test MSE when fitting a regressor to *all* features, for the following training set sizes:\n",
    "* `n_train = 20000`\n",
    "* `n_train = 25000`\n",
    "* `n_train = 30000`\n",
    "* `n_train = 40000`"
   ]
  },
  {
   "cell_type": "markdown",
   "metadata": {},
   "source": [
    "## Q5: Apply Min-Max feature scaling to normalize the data and caluclate the MSE and MAPE on features"
   ]
  },
  {
   "cell_type": "code",
   "execution_count": 9,
   "metadata": {},
   "outputs": [],
   "source": [
    "from sklearn.preprocessing import MinMaxScaler\n",
    "scaler = MinMaxScaler()\n",
    "x_scaled=scaler.fit_transform(x)"
   ]
  },
  {
   "cell_type": "markdown",
   "metadata": {},
   "source": [
    "## Q6: Use test train split to divide the dataset in 70-30 and apply decision tree and Random forest using sklearn"
   ]
  },
  {
   "cell_type": "markdown",
   "metadata": {},
   "source": [
    "Find the MSE and MAPE for both decision tree and random forest and compare it with linear regression and Plot the actual and predicted results of first 168 hours (weekly plot)"
   ]
  },
  {
   "cell_type": "code",
   "execution_count": 10,
   "metadata": {},
   "outputs": [],
   "source": [
    "from sklearn.tree import DecisionTreeRegressor  \n",
    "from sklearn.ensemble import RandomForestRegressor"
   ]
  },
  {
   "cell_type": "markdown",
   "metadata": {},
   "source": [
    "# Decision Tree Using sklearn"
   ]
  },
  {
   "cell_type": "code",
   "execution_count": 11,
   "metadata": {},
   "outputs": [],
   "source": [
    "x_train, x_test, y_train, y_test = train_test_split(x,y, test_size=0.3, random_state=42, shuffle=False)"
   ]
  },
  {
   "cell_type": "code",
   "execution_count": null,
   "metadata": {},
   "outputs": [],
   "source": []
  },
  {
   "cell_type": "code",
   "execution_count": null,
   "metadata": {},
   "outputs": [],
   "source": []
  },
  {
   "cell_type": "markdown",
   "metadata": {},
   "source": [
    "# Random Forest using Sklearn"
   ]
  },
  {
   "cell_type": "code",
   "execution_count": null,
   "metadata": {},
   "outputs": [],
   "source": []
  },
  {
   "cell_type": "code",
   "execution_count": null,
   "metadata": {},
   "outputs": [],
   "source": []
  },
  {
   "cell_type": "markdown",
   "metadata": {},
   "source": [
    "# Combine Results Plot"
   ]
  },
  {
   "cell_type": "code",
   "execution_count": 23,
   "metadata": {},
   "outputs": [
    {
     "name": "stdout",
     "output_type": "stream",
     "text": [
      "Collecting watermark\n",
      "  Downloading watermark-2.3.1-py2.py3-none-any.whl (7.2 kB)\n",
      "Requirement already satisfied: ipython in c:\\users\\ahsan\\anaconda3\\lib\\site-packages (from watermark) (7.29.0)\n",
      "Requirement already satisfied: colorama in c:\\users\\ahsan\\anaconda3\\lib\\site-packages (from ipython->watermark) (0.4.4)\n",
      "Requirement already satisfied: traitlets>=4.2 in c:\\users\\ahsan\\anaconda3\\lib\\site-packages (from ipython->watermark) (5.1.0)\n",
      "Requirement already satisfied: prompt-toolkit!=3.0.0,!=3.0.1,<3.1.0,>=2.0.0 in c:\\users\\ahsan\\anaconda3\\lib\\site-packages (from ipython->watermark) (3.0.20)\n",
      "Requirement already satisfied: matplotlib-inline in c:\\users\\ahsan\\anaconda3\\lib\\site-packages (from ipython->watermark) (0.1.2)\n",
      "Requirement already satisfied: jedi>=0.16 in c:\\users\\ahsan\\anaconda3\\lib\\site-packages (from ipython->watermark) (0.18.0)\n",
      "Requirement already satisfied: pygments in c:\\users\\ahsan\\anaconda3\\lib\\site-packages (from ipython->watermark) (2.10.0)\n",
      "Requirement already satisfied: pickleshare in c:\\users\\ahsan\\anaconda3\\lib\\site-packages (from ipython->watermark) (0.7.5)\n",
      "Requirement already satisfied: decorator in c:\\users\\ahsan\\anaconda3\\lib\\site-packages (from ipython->watermark) (5.1.0)\n",
      "Requirement already satisfied: setuptools>=18.5 in c:\\users\\ahsan\\anaconda3\\lib\\site-packages (from ipython->watermark) (61.2.0)\n",
      "Requirement already satisfied: backcall in c:\\users\\ahsan\\anaconda3\\lib\\site-packages (from ipython->watermark) (0.2.0)\n",
      "Requirement already satisfied: parso<0.9.0,>=0.8.0 in c:\\users\\ahsan\\anaconda3\\lib\\site-packages (from jedi>=0.16->ipython->watermark) (0.8.2)\n",
      "Requirement already satisfied: wcwidth in c:\\users\\ahsan\\anaconda3\\lib\\site-packages (from prompt-toolkit!=3.0.0,!=3.0.1,<3.1.0,>=2.0.0->ipython->watermark) (0.2.5)\n",
      "Installing collected packages: watermark\n",
      "Successfully installed watermark-2.3.1\n"
     ]
    }
   ],
   "source": [
    "!pip install watermark "
   ]
  },
  {
   "cell_type": "code",
   "execution_count": null,
   "metadata": {},
   "outputs": [],
   "source": []
  },
  {
   "cell_type": "code",
   "execution_count": 36,
   "metadata": {},
   "outputs": [
    {
     "name": "stdout",
     "output_type": "stream",
     "text": [
      "The watermark extension is already loaded. To reload it, use:\n",
      "  %reload_ext watermark\n",
      "Python implementation: CPython\n",
      "Python version       : 3.9.7\n",
      "IPython version      : 7.29.0\n",
      "\n",
      "wget      : 3.2\n",
      "pandas    : 1.1.5\n",
      "numpy     : 1.21.2\n",
      "watermark : 2.3.1\n",
      "sklearn   : 1.0.2\n",
      "matplotlib: 3.3.4\n",
      "keras     : 2.9.0\n",
      "\n",
      "Compiler    : MSC v.1916 64 bit (AMD64)\n",
      "OS          : Windows\n",
      "Release     : 10\n",
      "Machine     : AMD64\n",
      "Processor   : Intel64 Family 6 Model 165 Stepping 2, GenuineIntel\n",
      "CPU cores   : 16\n",
      "Architecture: 64bit\n",
      "\n",
      " \n",
      "Last updated: Wed Aug 24 2022 11:43:14GMT Summer Time\n",
      "\n"
     ]
    }
   ],
   "source": [
    "%load_ext watermark\n",
    "\n",
    "# python, ipython, packages, and machine characteristics\n",
    "%watermark -v -m -p wget,pandas,numpy,watermark,sklearn,matplotlib,keras\n",
    "\n",
    "# date\n",
    "print (\" \")\n",
    "%watermark -u -n -t -z "
   ]
  },
  {
   "cell_type": "code",
   "execution_count": null,
   "metadata": {},
   "outputs": [],
   "source": []
  }
 ],
 "metadata": {
  "kernelspec": {
   "display_name": "Python 3",
   "language": "python",
   "name": "python3"
  },
  "language_info": {
   "codemirror_mode": {
    "name": "ipython",
    "version": 3
   },
   "file_extension": ".py",
   "mimetype": "text/x-python",
   "name": "python",
   "nbconvert_exporter": "python",
   "pygments_lexer": "ipython3",
   "version": "3.8.8"
  }
 },
 "nbformat": 4,
 "nbformat_minor": 2
}
