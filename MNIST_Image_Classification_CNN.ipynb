{
 "cells": [
  {
   "cell_type": "markdown",
   "id": "8258e35d",
   "metadata": {},
   "source": [
    "# Hand written digits Classification using Convolutional Neural Network (CNN)\n",
    "\n",
    "The MNIST database of handwritten digits, available from this page, has a training set of 60,000 examples, and a test set of 10,000 examples. It is a subset of a larger set available from NIST. The digits have been size-normalized and centered in a fixed-size image.\n",
    "\n",
    "The link for this dataset is availabe here: http://yann.lecun.com/exdb/mnist/\n",
    "\n",
    "- It is a dataset of 60,000 small square 28×28 pixel grayscale images of handwritten single digits between 0 and 9.\n",
    "- The task is to classify a given image of a handwritten digit into one of 10 classes representing integer values from 0 to 9, inclusively.\n",
    "\n"
   ]
  },
  {
   "cell_type": "code",
   "execution_count": 2,
   "metadata": {},
   "outputs": [],
   "source": [
    "!pip install -r req_mnist.txt"
   ]
  },
  {
   "cell_type": "markdown",
   "id": "6537cb17",
   "metadata": {},
   "source": [
    "# Import Libraries"
   ]
  },
  {
   "cell_type": "code",
   "execution_count": 1,
   "id": "714f0b27",
   "metadata": {},
   "outputs": [],
   "source": [
    "import numpy as np     # use for plotting and data visualisation\n",
    "%matplotlib inline\n",
    "                       # Library to implement deep learning models \n",
    "from sklearn.metrics import confusion_matrix\n",
    "import seaborn as sns\n",
    "\n",
    "# baseline cnn model for mnist\n",
    "from numpy import mean\n",
    "from numpy import std\n",
    "from matplotlib import pyplot as plt\n",
    "from sklearn.model_selection import KFold\n",
    "from tensorflow.keras.datasets import mnist\n",
    "from tensorflow.keras.utils import to_categorical\n",
    "from tensorflow.keras.models import Sequential\n",
    "from tensorflow.keras.layers import Conv2D\n",
    "from tensorflow.keras.layers import Dropout, Activation\n",
    "from tensorflow.keras.layers import MaxPooling2D\n",
    "from tensorflow.keras.layers import Dense\n",
    "from tensorflow.keras.layers import Flatten\n",
    "from tensorflow.keras.optimizers import SGD\n",
    "\n",
    "np.random.seed(0)"
   ]
  },
  {
   "cell_type": "markdown",
   "id": "2dd32ce0",
   "metadata": {},
   "source": [
    "# Import Data\n",
    "\n",
    "MNIST is availabe in keras datasets, therefore we can direclty download it for keras repository\n"
   ]
  },
  {
   "cell_type": "code",
   "execution_count": null,
   "id": "79adf507",
   "metadata": {},
   "outputs": [],
   "source": []
  },
  {
   "cell_type": "code",
   "execution_count": 2,
   "id": "1e3b673c",
   "metadata": {},
   "outputs": [],
   "source": [
    "from keras.datasets import mnist\n",
    "\n",
    "(x_train, y_train) , (x_test, y_test) = mnist.load_data()"
   ]
  },
  {
   "cell_type": "markdown",
   "id": "e9c4ba80",
   "metadata": {},
   "source": [
    "Visualise the dataset before model training:\n",
    "\n",
    "- MNIST has 6000 images in training set and 10000 images in test set.\n",
    "- Size of each image in 28 x 28 i.e height is 28 pixels and width is 28 pixels.\n",
    "\n"
   ]
  },
  {
   "cell_type": "code",
   "execution_count": 3,
   "id": "8491f03e",
   "metadata": {},
   "outputs": [
    {
     "name": "stdout",
     "output_type": "stream",
     "text": [
      "Shape of training set is: (60000, 28, 28) | Shape of testset: (10000, 28, 28)\n"
     ]
    }
   ],
   "source": [
    "# Shape of training and test set\n",
    "\n",
    "print(f'Shape of training set is: {x_train.shape} | Shape of testset: {x_test.shape}')"
   ]
  },
  {
   "cell_type": "markdown",
   "id": "180acdd1",
   "metadata": {},
   "source": [
    "# Visualisation Example:\n",
    "\n"
   ]
  },
  {
   "cell_type": "code",
   "execution_count": 4,
   "id": "fb1ad434",
   "metadata": {},
   "outputs": [
    {
     "data": {
      "image/png": "[encoded data removed]",
      "text/plain": [
       "<Figure size 1440x1440 with 10 Axes>"
      ]
     },
     "metadata": {
      "needs_background": "light"
     },
     "output_type": "display_data"
    }
   ],
   "source": [
    "num_classes = 10           # mnist dataset has 10 classes i.e. digits for 0 to 9\n",
    "\n",
    "f, ax = plt.subplots(1, num_classes, figsize=(20,20))  # create a place holder images of each class \n",
    "\n",
    "\n",
    "for i in range(0, num_classes):                # loop for number of classes in out case 1 to 10\n",
    "    samples = x_train[y_train== i][0]          # finds the sampes for training set to match for loop index\n",
    "    ax[i].imshow(samples, cmap='gray')\n",
    "    ax[i].set_title(\"Label: {}\".format(i), fontsize=16)"
   ]
  },
  {
   "cell_type": "code",
   "execution_count": 5,
   "id": "146924c1",
   "metadata": {},
   "outputs": [
    {
     "name": "stdout",
     "output_type": "stream",
     "text": [
      "The data type of training set is:  <class 'numpy.ndarray'>\n",
      "----------------------------------------------------------\n",
      "The shape of training data is: (60000, 28, 28)\n",
      "----------------------------------------------------------\n",
      "The shape of each class: (28, 28)\n"
     ]
    }
   ],
   "source": [
    "# Let's first understand the dataset\n",
    "\n",
    "print('The data type of training set is: ',type(x_train))\n",
    "\n",
    "print('----------------------------------------------------------')\n",
    "\n",
    "# data type is numpy array\n",
    "\n",
    "print('The shape of training data is:', x_train.shape)\n",
    "\n",
    "print('----------------------------------------------------------')\n",
    "\n",
    "# shape of the dataset is 60,000 with each sample or class have size of 28 x 28\n",
    "\n",
    "print('The shape of each class:', x_train[0].shape)\n"
   ]
  },
  {
   "cell_type": "code",
   "execution_count": 6,
   "id": "31ef6667",
   "metadata": {},
   "outputs": [
    {
     "data": {
      "text/plain": [
       "<matplotlib.image.AxesImage at 0x20077c780a0>"
      ]
     },
     "execution_count": 6,
     "metadata": {},
     "output_type": "execute_result"
    },
    {
     "data": {
      "image/png": "[encoded data removed]",
      "text/plain": [
       "<Figure size 288x288 with 1 Axes>"
      ]
     },
     "metadata": {
      "needs_background": "light"
     },
     "output_type": "display_data"
    }
   ],
   "source": [
    "# visualise each sample:\n",
    "\n",
    "plt.matshow(x_train[0])     # change the value in square bracket to see other classes\n"
   ]
  },
  {
   "cell_type": "code",
   "execution_count": 7,
   "id": "627005f4",
   "metadata": {},
   "outputs": [
    {
     "data": {
      "image/png": "[encoded data removed]",
      "text/plain": [
       "<Figure size 432x288 with 9 Axes>"
      ]
     },
     "metadata": {
      "needs_background": "light"
     },
     "output_type": "display_data"
    }
   ],
   "source": [
    "for i in range(9):                   # This piece of code plots the gray scale images of first 9 samples in dataset\n",
    "\t# define subplot\n",
    "\tplt.subplot(330 + 1 + i)\n",
    "\t# plot raw pixel data\n",
    "\tplt.imshow(x_train[i], cmap=plt.get_cmap('gray'))\n",
    "# show the figure\n",
    "plt.show()"
   ]
  },
  {
   "cell_type": "markdown",
   "id": "6aa96ac6",
   "metadata": {},
   "source": [
    "# Data Preprocessing\n",
    "\n",
    "When using a convolutional layer as the first layer to our model, we need to reshape our data to (n_images, x_shape, y_shape, channels). All you really need to know is that you should set channels to 1 for grayscale images and set channels to 3 when you have a set of RGB-images as input."
   ]
  },
  {
   "cell_type": "code",
   "execution_count": 8,
   "id": "520ada5b",
   "metadata": {},
   "outputs": [
    {
     "name": "stdout",
     "output_type": "stream",
     "text": [
      "The shape of training data is: (60000, 28, 28, 1)\n"
     ]
    }
   ],
   "source": [
    "trainX = x_train.reshape(-1, 28,28, 1) # Negative one is the same as specifying the total number of images in the training set.\n",
    "testX = x_test.reshape(-1, 28,28, 1)  \n",
    "\n",
    "print('The shape of training data is:', trainX.shape)   # add"
   ]
  },
  {
   "cell_type": "code",
   "execution_count": 9,
   "id": "88edb3e3",
   "metadata": {},
   "outputs": [],
   "source": [
    "# Modifying the values of each pixel such that they range from 0 to 1 will improve the rate at which our model learns. \n",
    "\n",
    "trainX = trainX.astype('float32')   \n",
    "testX = testX.astype('float32')\n",
    "trainX = trainX / 255                   # pixel values varies for 0 to 255\n",
    "testX = testX / 255\n",
    "\n",
    "\n"
   ]
  },
  {
   "cell_type": "markdown",
   "id": "9aa6e826",
   "metadata": {},
   "source": [
    "# One hot label encoding\n",
    "\n",
    "Our model cannot work with categorical data directly. Ergo we must use one hot encoding. In one hot encoding, the digits 0 through 9 are represented as a set of nine zeros and a single one. The digit is determined by the location of the number 1. For example, you’d represent a 3 as [0, 0, 0, 1, 0, 0, 0, 0, 0, 0]."
   ]
  },
  {
   "cell_type": "code",
   "execution_count": 17,
   "id": "816888df",
   "metadata": {},
   "outputs": [],
   "source": [
    "trainY = to_categorical(y_train, num_classes)\n",
    "testY = to_categorical(y_test, num_classes)\n",
    "#testY = y_test"
   ]
  },
  {
   "cell_type": "markdown",
   "id": "46000475",
   "metadata": {},
   "source": [
    "# Define a CNN Model\n",
    "\n",
    "Next, we need to define a baseline convolutional neural network model for the problem.\n",
    "\n",
    "- The model has two main aspects: the feature extraction front end comprised of convolutional and pooling layers, and the classifier backend that will make a prediction.\n",
    "\n",
    "- For the convolutional front-end, we can start with a single convolutional layer with a small filter size (3,3) and a modest number of filters (32) followed by a max pooling layer. The filter maps can then be flattened to provide features to the classifier.\n",
    "\n",
    "- Given that the problem is a multi-class classification task, we know that we will require an output layer with 10 nodes in order to predict the probability distribution of an image belonging to each of the 10 classes. This will also require the use of a softmax activation function. Between the feature extractor and the output layer, we can add a dense layer to interpret the features, in this case with 100 nodes.\n",
    "\n",
    "- All layers will use the ReLU activation function and the He weight initialization scheme, both best practices.\n",
    "\n",
    "- The categorical cross-entropy loss function will be optimized, suitable for multi-class classification, and we will monitor the classification accuracy metric, which is appropriate given we have the same number of examples in each of the 10 classes."
   ]
  },
  {
   "cell_type": "code",
   "execution_count": 11,
   "id": "eee3b875",
   "metadata": {},
   "outputs": [],
   "source": [
    "# Function for defining the convolutional neural network: The architicture is 2D convolutional layer, Maxpooling layer, to dense layers. \n",
    "\n",
    "def modelcnn(conv_size, hidden_units):\n",
    "    model= Sequential()\n",
    "    model.add(Conv2D(conv_size, (3, 3), activation=\"relu\", input_shape=(28, 28, 1)))\n",
    "    model.add(MaxPooling2D((2, 2)))\n",
    "    model.add(Flatten())\n",
    "    model.add(Dense(hidden_units, activation=\"relu\"))\n",
    "    model.add(Dense(10, activation=\"softmax\"))\n",
    "    model.compile(loss='categorical_crossentropy', optimizer='SGD', metrics=['accuracy'])   # cross entropy loss as loss function.\n",
    "    model.summary()\n",
    "    return model    \n",
    "\n",
    "\n",
    "\n"
   ]
  },
  {
   "cell_type": "code",
   "execution_count": 12,
   "id": "a07e5032",
   "metadata": {},
   "outputs": [
    {
     "name": "stdout",
     "output_type": "stream",
     "text": [
      "Model: \"sequential\"\n",
      "_________________________________________________________________\n",
      " Layer (type)                Output Shape              Param #   \n",
      "=================================================================\n",
      " conv2d (Conv2D)             (None, 26, 26, 5)         50        \n",
      "                                                                 \n",
      " max_pooling2d (MaxPooling2D  (None, 13, 13, 5)        0         \n",
      " )                                                               \n",
      "                                                                 \n",
      " flatten (Flatten)           (None, 845)               0         \n",
      "                                                                 \n",
      " dense (Dense)               (None, 5)                 4230      \n",
      "                                                                 \n",
      " dense_1 (Dense)             (None, 10)                60        \n",
      "                                                                 \n",
      "=================================================================\n",
      "Total params: 4,340\n",
      "Trainable params: 4,340\n",
      "Non-trainable params: 0\n",
      "_________________________________________________________________\n"
     ]
    }
   ],
   "source": [
    "batch_size = 1000                   # loop through the entire data in size of 100 images per batch\n",
    "epochs=10                          # Number of epoches for traning\n",
    "hidden_units = 5                   # number of neuron for dense layer [by change the size of neuron the performance will change]\n",
    "conv_size=5\n",
    "\n",
    "model = modelcnn(conv_size=conv_size, hidden_units=hidden_units)  # Initilising the model\n"
   ]
  },
  {
   "cell_type": "code",
   "execution_count": 19,
   "id": "104e7ebf",
   "metadata": {},
   "outputs": [
    {
     "name": "stdout",
     "output_type": "stream",
     "text": [
      "Epoch 1/10\n",
      "60/60 [==============================] - 4s 71ms/step - loss: 1.7437 - accuracy: 0.3476\n",
      "Epoch 2/10\n",
      "60/60 [==============================] - 4s 74ms/step - loss: 1.6880 - accuracy: 0.3733\n",
      "Epoch 3/10\n",
      "60/60 [==============================] - 4s 70ms/step - loss: 1.6184 - accuracy: 0.4122\n",
      "Epoch 4/10\n",
      "60/60 [==============================] - 4s 74ms/step - loss: 1.5444 - accuracy: 0.4352\n",
      "Epoch 5/10\n",
      "60/60 [==============================] - 4s 71ms/step - loss: 1.4802 - accuracy: 0.4517\n",
      "Epoch 6/10\n",
      "60/60 [==============================] - 4s 73ms/step - loss: 1.4252 - accuracy: 0.4739\n",
      "Epoch 7/10\n",
      "60/60 [==============================] - 5s 76ms/step - loss: 1.3746 - accuracy: 0.5000\n",
      "Epoch 8/10\n",
      "60/60 [==============================] - 4s 71ms/step - loss: 1.3131 - accuracy: 0.5316\n",
      "Epoch 9/10\n",
      "60/60 [==============================] - 4s 69ms/step - loss: 1.2332 - accuracy: 0.5894\n",
      "Epoch 10/10\n",
      "60/60 [==============================] - 4s 70ms/step - loss: 1.1557 - accuracy: 0.6283\n"
     ]
    }
   ],
   "source": [
    "# Model training using training samples\n",
    "\n",
    "history = model.fit(trainX, trainY, batch_size=batch_size, epochs=epochs)  \n",
    "\n",
    "# In model training accuracy is kept as the metric. For each epoch, the accuracy of the model will keep increasing."
   ]
  },
  {
   "cell_type": "code",
   "execution_count": 20,
   "id": "7b83335e",
   "metadata": {},
   "outputs": [
    {
     "name": "stdout",
     "output_type": "stream",
     "text": [
      "The test accuray of the CNN model is: 0.6471999883651733\n"
     ]
    }
   ],
   "source": [
    "# Model evaluating using test sample:\n",
    "\n",
    "# Here we will test the model using test data samples from mnist\n",
    "\n",
    "# This will tell us how accuratly the model is trained.\n",
    "\n",
    "# To further improve the model performance, we need to train the hyper parameters.\n",
    "\n",
    "\n",
    "_, acc = model.evaluate(testX, testY, verbose=0)   \n",
    "print('The test accuray of the CNN model is:', acc)\n",
    "\n",
    "# The performance of model is not good which can be improved by change the hyper-parameter\n"
   ]
  },
  {
   "cell_type": "code",
   "execution_count": 21,
   "id": "4bae1108",
   "metadata": {},
   "outputs": [
    {
     "data": {
      "text/plain": [
       "array([1.0096545e-04, 1.8938337e-01, 1.6486552e-04, 1.1257834e-03,\n",
       "       5.2813724e-02, 7.2450330e-03, 2.8733443e-04, 6.7262501e-01,\n",
       "       8.9032734e-03, 6.7350626e-02], dtype=float32)"
      ]
     },
     "execution_count": 21,
     "metadata": {},
     "output_type": "execute_result"
    }
   ],
   "source": [
    "# model predicitions\n",
    "\n",
    "y_pred = model.predict(testX)\n",
    "y_pred[0]"
   ]
  },
  {
   "cell_type": "code",
   "execution_count": 22,
   "id": "f4d4a544",
   "metadata": {},
   "outputs": [
    {
     "data": {
      "text/plain": [
       "<matplotlib.image.AxesImage at 0x20003645b50>"
      ]
     },
     "execution_count": 22,
     "metadata": {},
     "output_type": "execute_result"
    },
    {
     "data": {
      "image/png": "[encoded data removed]",
      "text/plain": [
       "<Figure size 288x288 with 1 Axes>"
      ]
     },
     "metadata": {
      "needs_background": "light"
     },
     "output_type": "display_data"
    }
   ],
   "source": [
    "plt.matshow(testX[0])"
   ]
  },
  {
   "cell_type": "code",
   "execution_count": 23,
   "id": "f413b5b4",
   "metadata": {},
   "outputs": [
    {
     "data": {
      "text/plain": [
       "7"
      ]
     },
     "execution_count": 23,
     "metadata": {},
     "output_type": "execute_result"
    }
   ],
   "source": [
    "np.argmax(y_pred[0])"
   ]
  },
  {
   "cell_type": "code",
   "execution_count": 24,
   "id": "057e60dd",
   "metadata": {},
   "outputs": [
    {
     "data": {
      "text/plain": [
       "[7, 3, 1, 0, 4]"
      ]
     },
     "execution_count": 24,
     "metadata": {},
     "output_type": "execute_result"
    }
   ],
   "source": [
    "y_predicted_labels = [np.argmax(i) for i in y_pred]\n",
    "y_predicted_labels[:5]"
   ]
  },
  {
   "cell_type": "code",
   "execution_count": 26,
   "id": "a4e6fbe2",
   "metadata": {},
   "outputs": [
    {
     "data": {
      "text/plain": [
       "10000"
      ]
     },
     "execution_count": 26,
     "metadata": {},
     "output_type": "execute_result"
    }
   ],
   "source": [
    "len(y_test)"
   ]
  },
  {
   "cell_type": "code",
   "execution_count": 27,
   "id": "22a3b1dd",
   "metadata": {},
   "outputs": [
    {
     "data": {
      "text/plain": [
       "<tf.Tensor: shape=(10, 10), dtype=int32, numpy=\n",
       "array([[ 841,    0,    0,    2,   11,   10,  113,    0,    3,    0],\n",
       "       [   0, 1041,    0,    6,    0,    1,    0,    5,   80,    2],\n",
       "       [  72,    7,  440,  111,   23,    6,   94,    5,  252,   22],\n",
       "       [   3,   18,    2,  693,    0,   90,   66,   12,  116,   10],\n",
       "       [  14,    3,    6,    0,  552,    8,   10,   41,   29,  319],\n",
       "       [   6,    4,   13,  174,   47,  357,  121,   28,  120,   22],\n",
       "       [ 221,    1,  108,   33,   12,   26,  526,    1,   27,    3],\n",
       "       [   4,  136,    4,    2,   57,    3,    0,  698,   29,   95],\n",
       "       [   2,    6,   14,   70,    6,   78,   70,   24,  629,   75],\n",
       "       [   8,   13,    1,    2,  137,   11,    6,   91,   45,  695]])>"
      ]
     },
     "execution_count": 27,
     "metadata": {},
     "output_type": "execute_result"
    }
   ],
   "source": [
    "import tensorflow as tf\n",
    "cm = tf.math.confusion_matrix(labels=y_test, predictions=y_predicted_labels)\n",
    "cm"
   ]
  },
  {
   "cell_type": "code",
   "execution_count": 33,
   "id": "290c38e9",
   "metadata": {},
   "outputs": [
    {
     "data": {
      "text/plain": [
       "Text(69.0, 0.5, 'Actual')"
      ]
     },
     "execution_count": 33,
     "metadata": {},
     "output_type": "execute_result"
    },
    {
     "data": {
      "image/png": "[encoded data removed]",
      "text/plain": [
       "<Figure size 720x504 with 2 Axes>"
      ]
     },
     "metadata": {
      "needs_background": "light"
     },
     "output_type": "display_data"
    }
   ],
   "source": [
    "import seaborn as sn\n",
    "plt.figure(figsize = (10,7))\n",
    "sn.heatmap(cm, annot=True, fmt='d')\n",
    "#sn.heatmap(cf_matrix/np.sum(cf_matrix), annot=True, fmt='.2%', cmap='Blues')\n",
    "plt.xlabel('Predicted')\n",
    "plt.ylabel('Actual')"
   ]
  },
  {
   "cell_type": "markdown",
   "id": "33a222a9",
   "metadata": {},
   "source": [
    "- The diagnal of the above confusion matrix represnets the number of correct samples predicted. \n",
    "- There were 1000 samples per class.\n",
    "- In case of 0 it is mostly miss classified with 6. \n",
    "- The performance of model can be improved by change the hyperparameters."
   ]
  },
  {
   "cell_type": "code",
   "execution_count": 42,
   "id": "2b9ff32f",
   "metadata": {},
   "outputs": [
    {
     "data": {
      "text/html": [
       "<details>\n",
       "<summary>Click to view session information</summary>\n",
       "<pre>\n",
       "-----\n",
       "keras               2.8.0\n",
       "matplotlib          3.3.4\n",
       "numpy               1.21.6\n",
       "seaborn             0.11.1\n",
       "session_info        1.0.0\n",
       "sklearn             1.0.2\n",
       "tensorflow          2.8.0\n",
       "-----\n",
       "</pre>\n",
       "<details>\n",
       "<summary>Click to view modules imported as dependencies</summary>\n",
       "<pre>\n",
       "PIL                                         8.2.0\n",
       "aa8f2297d25b4dc6fd3d98411eb3ba53823c4f42    NA\n",
       "absl                                        NA\n",
       "anyio                                       NA\n",
       "astunparse                                  1.6.3\n",
       "attr                                        21.2.0\n",
       "babel                                       2.9.0\n",
       "backcall                                    0.2.0\n",
       "bottleneck                                  1.3.2\n",
       "brotli                                      NA\n",
       "certifi                                     2020.12.05\n",
       "cffi                                        1.14.5\n",
       "chardet                                     3.0.4\n",
       "charset_normalizer                          2.0.11\n",
       "colorama                                    0.4.4\n",
       "cycler                                      0.10.0\n",
       "cython_runtime                              NA\n",
       "dateutil                                    2.8.1\n",
       "decorator                                   4.4.2\n",
       "dill                                        0.3.4\n",
       "flatbuffers                                 2.0\n",
       "fsspec                                      0.9.0\n",
       "gast                                        NA\n",
       "google                                      NA\n",
       "h5py                                        2.10.0\n",
       "idna                                        2.8\n",
       "ipykernel                                   5.3.4\n",
       "ipython_genutils                            0.2.0\n",
       "ipywidgets                                  7.6.3\n",
       "jedi                                        0.17.2\n",
       "jinja2                                      2.11.3\n",
       "joblib                                      1.0.1\n",
       "json5                                       NA\n",
       "jsonschema                                  3.2.0\n",
       "jupyter_server                              1.4.1\n",
       "jupyterlab_server                           2.4.0\n",
       "keras_preprocessing                         1.1.2\n",
       "kiwisolver                                  1.3.1\n",
       "markupsafe                                  1.1.1\n",
       "metapensiero                                NA\n",
       "mpl_toolkits                                NA\n",
       "nbclassic                                   NA\n",
       "nbformat                                    5.1.3\n",
       "nt                                          NA\n",
       "ntsecuritycon                               NA\n",
       "opt_einsum                                  v3.3.0\n",
       "packaging                                   21.2\n",
       "pandas                                      1.1.5\n",
       "parso                                       0.7.0\n",
       "pickleshare                                 0.7.5\n",
       "pkg_resources                               NA\n",
       "prometheus_client                           NA\n",
       "prompt_toolkit                              3.0.17\n",
       "psutil                                      5.8.0\n",
       "pvectorc                                    NA\n",
       "pygments                                    2.8.1\n",
       "pyparsing                                   2.4.7\n",
       "pyrsistent                                  NA\n",
       "pythoncom                                   NA\n",
       "pytz                                        2021.3\n",
       "pywintypes                                  NA\n",
       "requests                                    2.26.0\n",
       "ruamel                                      NA\n",
       "scipy                                       1.5.4\n",
       "send2trash                                  NA\n",
       "six                                         1.15.0\n",
       "sniffio                                     1.2.0\n",
       "socks                                       1.7.1\n",
       "sphinxcontrib                               NA\n",
       "statsmodels                                 0.12.2\n",
       "storemagic                                  NA\n",
       "tblib                                       1.7.0\n",
       "tensorboard                                 2.8.0\n",
       "termcolor                                   1.1.0\n",
       "threadpoolctl                               2.1.0\n",
       "tornado                                     6.1\n",
       "traitlets                                   5.0.5\n",
       "typing_extensions                           NA\n",
       "urllib3                                     1.25.11\n",
       "watermark                                   2.3.1\n",
       "wcwidth                                     0.2.5\n",
       "win32api                                    NA\n",
       "win32com                                    NA\n",
       "win32security                               NA\n",
       "wrapt                                       1.12.1\n",
       "zmq                                         20.0.0\n",
       "zope                                        NA\n",
       "</pre>\n",
       "</details> <!-- seems like this ends pre, so might as well be explicit -->\n",
       "<pre>\n",
       "-----\n",
       "IPython             7.22.0\n",
       "jupyter_client      6.1.12\n",
       "jupyter_core        4.7.1\n",
       "jupyterlab          3.0.14\n",
       "notebook            6.3.0\n",
       "-----\n",
       "Python 3.8.8 (default, Apr 13 2021, 15:08:03) [MSC v.1916 64 bit (AMD64)]\n",
       "Windows-10-10.0.19041-SP0\n",
       "-----\n",
       "Session information updated at 2022-09-19 11:31\n",
       "</pre>\n",
       "</details>"
      ],
      "text/plain": [
       "<IPython.core.display.HTML object>"
      ]
     },
     "execution_count": 42,
     "metadata": {},
     "output_type": "execute_result"
    }
   ],
   "source": [
    "import session_info\n",
    "session_info.show()"
   ]
  },
  {
   "cell_type": "code",
   "execution_count": null,
   "id": "e89d405c",
   "metadata": {},
   "outputs": [],
   "source": []
  }
 ],
 "metadata": {
  "kernelspec": {
   "display_name": "Python 3.8.8 ('base')",
   "language": "python",
   "name": "python3"
  },
  "language_info": {
   "codemirror_mode": {
    "name": "ipython",
    "version": 3
   },
   "file_extension": ".py",
   "mimetype": "text/x-python",
   "name": "python",
   "nbconvert_exporter": "python",
   "pygments_lexer": "ipython3",
   "version": "3.8.8"
  },
  "vscode": {
   "interpreter": {
    "hash": "7ff578d89602cc4b99afbc12f6c194d4bd4e30ea82d427a0f6998caf73f5df60"
   }
  }
 },
 "nbformat": 4,
 "nbformat_minor": 5
}
